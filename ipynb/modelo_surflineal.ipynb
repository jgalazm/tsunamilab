{
 "cells": [
  {
   "cell_type": "code",
   "execution_count": 1,
   "metadata": {
    "collapsed": true
   },
   "outputs": [],
   "source": [
    "import numpy as np\n",
    "import matplotlib.pyplot as plt\n",
    "%matplotlib inline"
   ]
  },
  {
   "cell_type": "markdown",
   "metadata": {},
   "source": [
    "The one dimensional linear shallow water equations in cartesian coordinates read\n",
    "\n",
    "$$ \\eta_t + P_x = 0$$ \n",
    "$$ P_t + gh \\eta _x = 0$$"
   ]
  },
  {
   "cell_type": "code",
   "execution_count": null,
   "metadata": {
    "collapsed": true
   },
   "outputs": [],
   "source": []
  },
  {
   "cell_type": "code",
   "execution_count": null,
   "metadata": {
    "collapsed": true
   },
   "outputs": [],
   "source": []
  },
  {
   "cell_type": "code",
   "execution_count": null,
   "metadata": {
    "collapsed": true
   },
   "outputs": [],
   "source": []
  },
  {
   "cell_type": "code",
   "execution_count": null,
   "metadata": {
    "collapsed": true
   },
   "outputs": [],
   "source": []
  },
  {
   "cell_type": "markdown",
   "metadata": {},
   "source": [
    "The linear shallow water equations with topography, coriollis terms in spherical coordinates read\n",
    "\n",
    "\\begin{align}\n",
    "    \\frac{\\partial \\eta}{\\partial t}\n",
    "    + \\frac{1}{R\\cos(\\varphi)}\\left(\\frac{\\partial P}{\\partial \\psi}\n",
    "    + \\frac{\\partial}{\\partial \\varphi}(\\cos(\\varphi) Q )\\right) /= 0 \\\\\n",
    "    \\frac{\\partial P }{\\partial t} + \\frac{gh}{Rcos\\phi} \\frac{\\partial \\eta}{\\partial \\psi} &= fQ \\\\\n",
    "    \\frac{\\partial Q}\n",
    "    \n",
    "\\end{align}"
   ]
  },
  {
   "cell_type": "markdown",
   "metadata": {},
   "source": [
    "$\\phi$ $\\varphi$"
   ]
  },
  {
   "cell_type": "code",
   "execution_count": 38,
   "metadata": {
    "collapsed": true
   },
   "outputs": [],
   "source": [
    "import sympy as sy\n",
    "from sympy import init_printing\n",
    "init_printing()"
   ]
  },
  {
   "cell_type": "code",
   "execution_count": 56,
   "metadata": {
    "collapsed": false
   },
   "outputs": [
    {
     "data": {
      "image/png": "[encoded data removed]",
      "text/latex": [
       "$$\\left[\\begin{matrix}0 & 1\\\\g h & 0\\end{matrix}\\right]$$"
      ],
      "text/plain": [
       "⎡ 0   1⎤\n",
       "⎢      ⎥\n",
       "⎣g⋅h  0⎦"
      ]
     },
     "execution_count": 56,
     "metadata": {},
     "output_type": "execute_result"
    }
   ],
   "source": [
    "g,h = sy.symbols('g,h')\n",
    "M = sy.Matrix([[0,1],[(g*h),0]])\n",
    "M"
   ]
  },
  {
   "cell_type": "code",
   "execution_count": 90,
   "metadata": {
    "collapsed": false
   },
   "outputs": [
    {
     "data": {
      "image/png": "[encoded data removed]",
      "text/latex": [
       "$$\\left ( \\left[\\begin{matrix}- \\frac{1}{\\sqrt{g h}} & \\frac{1}{\\sqrt{g h}}\\\\1 & 1\\end{matrix}\\right], \\quad \\left[\\begin{matrix}- \\sqrt{g h} & 0\\\\0 & \\sqrt{g h}\\end{matrix}\\right]\\right )$$"
      ],
      "text/plain": [
       "⎛⎡  -1        1   ⎤  ⎡   _____         ⎤⎞\n",
       "⎜⎢───────  ───────⎥, ⎢-╲╱ g⋅h      0   ⎥⎟\n",
       "⎜⎢  _____    _____⎥  ⎢                 ⎥⎟\n",
       "⎜⎢╲╱ g⋅h   ╲╱ g⋅h ⎥  ⎢            _____⎥⎟\n",
       "⎜⎢                ⎥  ⎣   0      ╲╱ g⋅h ⎦⎟\n",
       "⎝⎣   1        1   ⎦                     ⎠"
      ]
     },
     "execution_count": 90,
     "metadata": {},
     "output_type": "execute_result"
    }
   ],
   "source": [
    "V,L = M.diagonalize()\n",
    "V = V\n",
    "V,L"
   ]
  },
  {
   "cell_type": "code",
   "execution_count": 91,
   "metadata": {
    "collapsed": false
   },
   "outputs": [
    {
     "data": {
      "image/png": "[encoded data removed]",
      "text/latex": [
       "$$\\left[\\begin{matrix}0 & 1\\\\g h & 0\\end{matrix}\\right]$$"
      ],
      "text/plain": [
       "⎡ 0   1⎤\n",
       "⎢      ⎥\n",
       "⎣g⋅h  0⎦"
      ]
     },
     "execution_count": 91,
     "metadata": {},
     "output_type": "execute_result"
    }
   ],
   "source": [
    "V*L*V.inv()"
   ]
  },
  {
   "cell_type": "code",
   "execution_count": 99,
   "metadata": {
    "collapsed": true
   },
   "outputs": [],
   "source": [
    "eta,p = sy.symbols('eta,p')"
   ]
  },
  {
   "cell_type": "code",
   "execution_count": 100,
   "metadata": {
    "collapsed": false
   },
   "outputs": [],
   "source": [
    "U = sy.Matrix([[eta],[p]])"
   ]
  },
  {
   "cell_type": "code",
   "execution_count": 101,
   "metadata": {
    "collapsed": false
   },
   "outputs": [
    {
     "data": {
      "image/png": "[encoded data removed]",
      "text/latex": [
       "$$\\left[\\begin{matrix}\\eta\\\\p\\end{matrix}\\right]$$"
      ],
      "text/plain": [
       "⎡η⎤\n",
       "⎢ ⎥\n",
       "⎣p⎦"
      ]
     },
     "execution_count": 101,
     "metadata": {},
     "output_type": "execute_result"
    }
   ],
   "source": [
    "U"
   ]
  },
  {
   "cell_type": "code",
   "execution_count": 102,
   "metadata": {
    "collapsed": false
   },
   "outputs": [
    {
     "data": {
      "image/png": "[encoded data removed]",
      "text/latex": [
       "$$\\left[\\begin{matrix}- \\frac{\\eta}{2} \\sqrt{g h} + \\frac{p}{2}\\\\\\frac{\\eta}{2} \\sqrt{g h} + \\frac{p}{2}\\end{matrix}\\right]$$"
      ],
      "text/plain": [
       "⎡      _____    ⎤\n",
       "⎢  η⋅╲╱ g⋅h    p⎥\n",
       "⎢- ───────── + ─⎥\n",
       "⎢      2       2⎥\n",
       "⎢               ⎥\n",
       "⎢     _____     ⎥\n",
       "⎢ η⋅╲╱ g⋅h    p ⎥\n",
       "⎢ ───────── + ─ ⎥\n",
       "⎣     2       2 ⎦"
      ]
     },
     "execution_count": 102,
     "metadata": {},
     "output_type": "execute_result"
    }
   ],
   "source": [
    "V.inv()*U"
   ]
  },
  {
   "cell_type": "code",
   "execution_count": 96,
   "metadata": {
    "collapsed": false
   },
   "outputs": [
    {
     "data": {
      "image/png": "[encoded data removed]",
      "text/latex": [
       "$$\\left[\\begin{matrix}- \\frac{\\sqrt{g h}}{2} & \\frac{1}{2}\\\\\\frac{\\sqrt{g h}}{2} & \\frac{1}{2}\\end{matrix}\\right]$$"
      ],
      "text/plain": [
       "⎡   _____      ⎤\n",
       "⎢-╲╱ g⋅h       ⎥\n",
       "⎢─────────  1/2⎥\n",
       "⎢    2         ⎥\n",
       "⎢              ⎥\n",
       "⎢   _____      ⎥\n",
       "⎢ ╲╱ g⋅h       ⎥\n",
       "⎢ ───────   1/2⎥\n",
       "⎣    2         ⎦"
      ]
     },
     "execution_count": 96,
     "metadata": {},
     "output_type": "execute_result"
    }
   ],
   "source": [
    "V.inv()"
   ]
  },
  {
   "cell_type": "code",
   "execution_count": 71,
   "metadata": {
    "collapsed": false
   },
   "outputs": [
    {
     "data": {
      "image/png": "[encoded data removed]",
      "text/latex": [
       "$$\\left[\\begin{matrix}-1 & 1\\\\\\sqrt{g h} & \\sqrt{g h}\\end{matrix}\\right]$$"
      ],
      "text/plain": [
       "⎡  -1        1   ⎤\n",
       "⎢                ⎥\n",
       "⎢  _____    _____⎥\n",
       "⎣╲╱ g⋅h   ╲╱ g⋅h ⎦"
      ]
     },
     "execution_count": 71,
     "metadata": {},
     "output_type": "execute_result"
    }
   ],
   "source": [
    "V"
   ]
  }
 ],
 "metadata": {
  "kernelspec": {
   "display_name": "Python 2",
   "language": "python",
   "name": "python2"
  },
  "language_info": {
   "codemirror_mode": {
    "name": "ipython",
    "version": 2
   },
   "file_extension": ".py",
   "mimetype": "text/x-python",
   "name": "python",
   "nbconvert_exporter": "python",
   "pygments_lexer": "ipython2",
   "version": "2.7.11"
  }
 },
 "nbformat": 4,
 "nbformat_minor": 0
}
