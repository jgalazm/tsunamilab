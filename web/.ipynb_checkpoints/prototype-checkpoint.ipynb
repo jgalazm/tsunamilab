{
 "cells": [
  {
   "cell_type": "code",
   "execution_count": 1,
   "metadata": {
    "collapsed": true
   },
   "outputs": [],
   "source": [
    "import numpy as np\n",
    "import matplotlib.pyplot as plt\n",
    "%matplotlib inline"
   ]
  },
  {
   "cell_type": "code",
   "execution_count": 2,
   "metadata": {
    "collapsed": false
   },
   "outputs": [],
   "source": [
    "x = np.linspace(-1,1,100)\n",
    "y = 1.*x\n",
    "x,y = np.meshgrid(x,y)\n",
    "u0 = np.zeros_like(x)\n",
    "nt = 10000\n",
    "u1 = np.zeros((nt,x.shape[0],x.shape[1]))"
   ]
  },
  {
   "cell_type": "code",
   "execution_count": 3,
   "metadata": {
    "collapsed": true
   },
   "outputs": [],
   "source": [
    "h = np.diff(x)[0,0]\n",
    "cfl = 0.25\n",
    "dt = cfl*h*h"
   ]
  },
  {
   "cell_type": "code",
   "execution_count": 4,
   "metadata": {
    "collapsed": false
   },
   "outputs": [],
   "source": [
    "u1[0,0,:] = 1\n",
    "u1[0,-1,:] = 0\n",
    "u1[0,:,0] = (1-(y[:,0]+1)/2)**3\n",
    "u1[0,:,-1] = (1-(y[:,0]+1)/2)**3"
   ]
  },
  {
   "cell_type": "code",
   "execution_count": 5,
   "metadata": {
    "collapsed": false
   },
   "outputs": [],
   "source": [
    "for i in range(nt-1):\n",
    "    u1[i+1,0,:] = 1\n",
    "    u1[i+1,-1,:] = 0\n",
    "    u1[i+1,:,0] = (1-(y[:,0]+1)/2)**3\n",
    "    u1[i+1,:,-1] = (1-(y[:,0]+1)/2)**3\n",
    "    u1[i+1,1:-1,1:-1] = u1[i,1:-1,1:-1] + \\\n",
    "            dt/h**2*(u1[i,2:,1:-1]+u1[i,:-2,1:-1]+u1[i,1:-1,2:]+u1[i,1:-1,:-2]-4*u1[i,1:-1,1:-1])"
   ]
  },
  {
   "cell_type": "code",
   "execution_count": 6,
   "metadata": {
    "collapsed": false
   },
   "outputs": [
    {
     "data": {
      "text/plain": [
       "<matplotlib.colorbar.Colorbar at 0x7fc0a29c6a10>"
      ]
     },
     "execution_count": 6,
     "metadata": {},
     "output_type": "execute_result"
    },
    {
     "data": {
      "image/png": "[encoded data removed]",
      "text/plain": [
       "<matplotlib.figure.Figure at 0x7fc0d467e990>"
      ]
     },
     "metadata": {},
     "output_type": "display_data"
    }
   ],
   "source": [
    "plt.subplot(211)\n",
    "plt.pcolormesh(x,y,u1[0,:,:])\n",
    "plt.axis('equal')\n",
    "plt.colorbar()\n",
    "plt.subplot(212)\n",
    "plt.pcolormesh(x,y,u1[nt-1,:,:])\n",
    "plt.axis('equal')\n",
    "plt.colorbar()"
   ]
  },
  {
   "cell_type": "code",
   "execution_count": 7,
   "metadata": {
    "collapsed": false,
    "scrolled": false
   },
   "outputs": [
    {
     "data": {
      "text/html": [
       "\n",
       "<script language=\"javascript\">\n",
       "  /* Define the Animation class */\n",
       "  function Animation(frames, img_id, slider_id, interval, loop_select_id){\n",
       "    this.img_id = img_id;\n",
       "    this.slider_id = slider_id;\n",
       "    this.loop_select_id = loop_select_id;\n",
       "    this.interval = interval;\n",
       "    this.current_frame = 0;\n",
       "    this.direction = 0;\n",
       "    this.timer = null;\n",
       "    this.frames = new Array(frames.length);\n",
       "\n",
       "    for (var i=0; i<frames.length; i++)\n",
       "    {\n",
       "     this.frames[i] = new Image();\n",
       "     this.frames[i].src = frames[i];\n",
       "    }\n",
       "    document.getElementById(this.slider_id).max = this.frames.length - 1;\n",
       "    this.set_frame(this.current_frame);\n",
       "  }\n",
       "\n",
       "  Animation.prototype.get_loop_state = function(){\n",
       "    var button_group = document[this.loop_select_id].state;\n",
       "    for (var i = 0; i < button_group.length; i++) {\n",
       "        var button = button_group[i];\n",
       "        if (button.checked) {\n",
       "            return button.value;\n",
       "        }\n",
       "    }\n",
       "    return undefined;\n",
       "  }\n",
       "\n",
       "  Animation.prototype.set_frame = function(frame){\n",
       "    this.current_frame = frame;\n",
       "    document.getElementById(this.img_id).src = this.frames[this.current_frame].src;\n",
       "    document.getElementById(this.slider_id).value = this.current_frame;\n",
       "  }\n",
       "\n",
       "  Animation.prototype.next_frame = function()\n",
       "  {\n",
       "    this.set_frame(Math.min(this.frames.length - 1, this.current_frame + 1));\n",
       "  }\n",
       "\n",
       "  Animation.prototype.previous_frame = function()\n",
       "  {\n",
       "    this.set_frame(Math.max(0, this.current_frame - 1));\n",
       "  }\n",
       "\n",
       "  Animation.prototype.first_frame = function()\n",
       "  {\n",
       "    this.set_frame(0);\n",
       "  }\n",
       "\n",
       "  Animation.prototype.last_frame = function()\n",
       "  {\n",
       "    this.set_frame(this.frames.length - 1);\n",
       "  }\n",
       "\n",
       "  Animation.prototype.slower = function()\n",
       "  {\n",
       "    this.interval /= 0.7;\n",
       "    if(this.direction > 0){this.play_animation();}\n",
       "    else if(this.direction < 0){this.reverse_animation();}\n",
       "  }\n",
       "\n",
       "  Animation.prototype.faster = function()\n",
       "  {\n",
       "    this.interval *= 0.7;\n",
       "    if(this.direction > 0){this.play_animation();}\n",
       "    else if(this.direction < 0){this.reverse_animation();}\n",
       "  }\n",
       "\n",
       "  Animation.prototype.anim_step_forward = function()\n",
       "  {\n",
       "    this.current_frame += 1;\n",
       "    if(this.current_frame < this.frames.length){\n",
       "      this.set_frame(this.current_frame);\n",
       "    }else{\n",
       "      var loop_state = this.get_loop_state();\n",
       "      if(loop_state == \"loop\"){\n",
       "        this.first_frame();\n",
       "      }else if(loop_state == \"reflect\"){\n",
       "        this.last_frame();\n",
       "        this.reverse_animation();\n",
       "      }else{\n",
       "        this.pause_animation();\n",
       "        this.last_frame();\n",
       "      }\n",
       "    }\n",
       "  }\n",
       "\n",
       "  Animation.prototype.anim_step_reverse = function()\n",
       "  {\n",
       "    this.current_frame -= 1;\n",
       "    if(this.current_frame >= 0){\n",
       "      this.set_frame(this.current_frame);\n",
       "    }else{\n",
       "      var loop_state = this.get_loop_state();\n",
       "      if(loop_state == \"loop\"){\n",
       "        this.last_frame();\n",
       "      }else if(loop_state == \"reflect\"){\n",
       "        this.first_frame();\n",
       "        this.play_animation();\n",
       "      }else{\n",
       "        this.pause_animation();\n",
       "        this.first_frame();\n",
       "      }\n",
       "    }\n",
       "  }\n",
       "\n",
       "  Animation.prototype.pause_animation = function()\n",
       "  {\n",
       "    this.direction = 0;\n",
       "    if (this.timer){\n",
       "      clearInterval(this.timer);\n",
       "      this.timer = null;\n",
       "    }\n",
       "  }\n",
       "\n",
       "  Animation.prototype.play_animation = function()\n",
       "  {\n",
       "    this.pause_animation();\n",
       "    this.direction = 1;\n",
       "    var t = this;\n",
       "    if (!this.timer) this.timer = setInterval(function(){t.anim_step_forward();}, this.interval);\n",
       "  }\n",
       "\n",
       "  Animation.prototype.reverse_animation = function()\n",
       "  {\n",
       "    this.pause_animation();\n",
       "    this.direction = -1;\n",
       "    var t = this;\n",
       "    if (!this.timer) this.timer = setInterval(function(){t.anim_step_reverse();}, this.interval);\n",
       "  }\n",
       "</script>\n",
       "\n",
       "<div class=\"animation\" align=\"center\">\n",
       "    <img id=\"_anim_imgYKNTOAJJIPMRCGEG\">\n",
       "    <br>\n",
       "    <input id=\"_anim_sliderYKNTOAJJIPMRCGEG\" type=\"range\" style=\"width:350px\" name=\"points\" min=\"0\" max=\"1\" step=\"1\" value=\"0\" onchange=\"animYKNTOAJJIPMRCGEG.set_frame(parseInt(this.value));\"></input>\n",
       "    <br>\n",
       "    <button onclick=\"animYKNTOAJJIPMRCGEG.slower()\">&#8211;</button>\n",
       "    <button onclick=\"animYKNTOAJJIPMRCGEG.first_frame()\"><img class=\"anim_icon\" src=\"data:image/png;base64,iVBORw0KGgoAAAANSUhEUgAAABQAAAAUCAQAAAAngNWGAAAAAXNSR0IArs4c6QAAAAJiS0dEAP+Hj8y/AAAACXBIWXMAAAsTAAALEwEAmpwYAAAAB3RJTUUH3QURCAgaeZk4EQAAASlJREFUKM/dkj9LQnEUhp9zr3bpj1uBcKGiJWxzLWivKAIRjIhcCqcgqJbKRagPICiVSVEuNTu0tLYGUg4tkRGUdxLJ0u79Ndxr5FfwTO/L+xzO4XCgO+v2T70AFU+/A/Dhmlzg6Pr0DKAMwOH4zQxAAbAkv2xNeF2RoQUVc1ytgttXUbWVdN1dOPE8pz4j4APQsdFtKA0WY6vpKjqvVciHnvZTS6Ja4HgggJLs7MHxl9nCh8NYcO+iGG0agiaC4h9oa6Vsw2yiK+QHSZT934YoEQABNBcTNDszsrhm1m1B+bFS86PT6QFppx6oeSaeOwlMXRp1h4aK13Y2kuHhUo9ykPboPvFjeEvsrhTMt3ylHyB0r8KZyYdCrbfj4OveoHMANjuyx+76rV+/blxKMZUnLgAAAABJRU5ErkJggg==\"></button>\n",
       "    <button onclick=\"animYKNTOAJJIPMRCGEG.previous_frame()\"><img class=\"anim_icon\" src=\"data:image/png;base64,iVBORw0KGgoAAAANSUhEUgAAABQAAAAUCAQAAAAngNWGAAAAAXNSR0IArs4c6QAAAAJiS0dEAP+Hj8y/AAAACXBIWXMAAAsTAAALEwEAmpwYAAAAB3RJTUUH3QURCAgyTCyQ6wAAANRJREFUKM9jYBjO4AiUfgzFGGAp4+yayUvX6jMwMDCsYmBgOCS4OAOrSYmMgcc8/pd5Q3irC+Neh/1AlmeBMVgZmP8yMLD8/c/cqv9r90whzv/MX7Eq/MfAwMDIwCuZdfSV8U8WDgZGRmYGrAoZGRgY/jO8b3sj/J2F6T8j4z80pzEhmIwMjAxsSbqqlkeZGP//Z8SlkJnhPwMjwx/Guoe1NhmRwk+YGH5jV8jOwMPHzcDBysAwh8FrxQwtPU99HrwBXsnAwMDAsJiBgYGBoZ1xmKYqALHhMpn1o7igAAAAAElFTkSuQmCC\"></button>\n",
       "    <button onclick=\"animYKNTOAJJIPMRCGEG.reverse_animation()\"><img class=\"anim_icon\" src=\"data:image/png;base64,iVBORw0KGgoAAAANSUhEUgAAABQAAAAUCAQAAAAngNWGAAAAAXNSR0IArs4c6QAAAAJiS0dEAP+Hj8y/AAAACXBIWXMAAAsTAAALEwEAmpwYAAAAB3RJTUUH3QURCAgmVvZElgAAAVFJREFUKM+t0k8ow3EYx/H3s/2aLDUSZctFkgsHEi1XLi5ukpPSWsuJklwclsPSsDKFi7MSJ0I5qF2GHO2m0FY7+BdNv7Y9DpuxDSt5vsfvq+fT9/k+8D8VBxIAWH6H0ead4Qb5BRwCENoceZi5Stl/6BgCBmtWhjzxg4mUQ02rAhil7JgB9tze7aTLxFAKsUUd14B9ZzCyFUk401gQyQJaDNcBHwv7t7ETd0ZVQFEEzcNCdE/1wtj15imGWlEB8qkf2QaAWjbG/bPSamIDyX65/iwDIFx7tWjUvWCoSo5oGbYATN7PORt7W9IZEQXJH8ohuN7C0VVX91KNqYhq4a1lEGJI0j892tazXCWQRUpwAbYDcHczPxXuajq3mbnhfANz5eOJxsuNvs7+jud0UcuyL3QAkuEMx4rnIvBYq1JhEwPAUb3fG7x8tVdc292/7Po7f2VqA+Yz7ZwAAAAASUVORK5CYII=\"></button>\n",
       "    <button onclick=\"animYKNTOAJJIPMRCGEG.pause_animation()\"><img class=\"anim_icon\" src=\"data:image/png;base64,iVBORw0KGgoAAAANSUhEUgAAABQAAAAUCAQAAAAngNWGAAAAAXNSR0IArs4c6QAAAAJiS0dEAP+Hj8y/AAAACXBIWXMAAAsTAAALEwEAmpwYAAAAB3RJTUUH3QURCAkR91DQ2AAAAKtJREFUKM9jYCANTEVib2K4jcRbzQihGWEC00JuNjN8Z2Q0Zo3VYWA4lL005venH9+c3ZK5IfIsMIXMBtc12Bj+MMgxMDAwMPzWe2TBzPCf4SLcZCYY4/9/RgZGBiaYFf8gljFhKiQERhUOeoX/Gf8y/GX4y/APmlj+Mfxj+MfwH64Qnnq0zr9fyfLrPzP3eQYGBobvk5x4GX4xMIij23gdib0cRWYHiVmAAQDK5ircshCbHQAAAABJRU5ErkJggg==\"></button>\n",
       "    <button onclick=\"animYKNTOAJJIPMRCGEG.play_animation()\"><img class=\"anim_icon\" src=\"data:image/png;base64,iVBORw0KGgoAAAANSUhEUgAAABQAAAAUCAQAAAAngNWGAAAAAXNSR0IArs4c6QAAAAJiS0dEAP+Hj8y/AAAACXBIWXMAAAsTAAALEwEAmpwYAAAAB3RJTUUH3QURCAkEmo00MwAAAS9JREFUKM+tkj1IQmEUhp9j94LQj0FD4RRBLdLQ3ftb26PRcCiQIIiIDFwKC0OhaAiam5wVDBpqCKohQojMLYzaAiUatOtpuQrKVQl64fu+4Xt4OLwc+Fs+nNM16jsPAWS6gZXggoZfXmfhog3hcZ6aTXF87Sp68OmH4/YggAo8bmfyyeh6Z1AAKPVldyO1+Iz2uILq3AriJSe3l+H7aj+cuRnrTsVDxSxay+VYbMDnCtZxxQOU9G4nlU9E1HQBxRkCQMRGRnIbpxMARkvxCIoAorYMMrq0mJ0qu4COUW3xyVDqJC4P+86P0ewDQbQqgevhlc2C8ETApXAEFLzvwa3EXG9BoIE1GQUbv1h7k4fTXxBu6cKgUbX5M3ZzNC+a7rQ936HV56SlRpcle+Mf8wvgJ16zo/4BtQAAAABJRU5ErkJggg==\"></button>\n",
       "    <button onclick=\"animYKNTOAJJIPMRCGEG.next_frame()\"><img class=\"anim_icon\" src=\"data:image/png;base64,iVBORw0KGgoAAAANSUhEUgAAABQAAAAUCAQAAAAngNWGAAAAAXNSR0IArs4c6QAAAAJiS0dEAP+Hj8y/AAAACXBIWXMAAAsTAAALEwEAmpwYAAAAB3RJTUUH3QURCAkd/uac8wAAAMhJREFUKM9jYBie4DEUQ8B+fEq3+3UrMzAwMFxjYGBgYJizYubaOUxYFUaXh/6vWfRfEMIL/+//P5gZJoei4/f/7wxnY1PeNUXdE2RgYGZgYoCrY2BBVsjKwMDAwvCS4f3SG/dXxm5gYESSQ1HIwvCPgZmB8f8Pxv+Kxxb/YfiPJIdi9T8GJgaG/38ZFd4Fx0xUYsZt4h8GBgb2D2bLy7KnMTAwMEIxFoVCXIYr1IoDnkF4XAysqNIwUMDAwMDAsADKS2NkGL4AAIARMlfNIfZMAAAAAElFTkSuQmCC\"></button>\n",
       "    <button onclick=\"animYKNTOAJJIPMRCGEG.last_frame()\"><img class=\"anim_icon\" src=\"data:image/png;base64,iVBORw0KGgoAAAANSUhEUgAAABQAAAAUCAQAAAAngNWGAAAAAXNSR0IArs4c6QAAAAJiS0dEAP+Hj8y/AAAACXBIWXMAAAsTAAALEwEAmpwYAAAAB3RJTUUH3QURCAknOOpFQQAAAS9JREFUKM/dkrEvQ3EQxz/33mtoQxiYpANbLU26NAabSCcSUouGBVNDjYQaOiDpIEiKjURIw2Kx04hEYmkHEpGoJpSISaXq9Wd4P03/ht5y98197/u9XA4aK4rAWw3lgWddZ3S+/G9mEovtAB8AHE4pgTQAx8PbJweRmsq6GimmNpxaNYXVzMNNCI6A2figimwCGACK786zuWgh3qcsKf/w0pM4X0m/doNVFVzVGlEQsdRj193VxEWpH0RsdRu+zi3tVMqCAsDShoiYqiSV4OouVDFEqS9Pbiyg7vV62lpQ2BJ4Gg0meg0MbNpkYG/e+540NNFyrE1a8qHk5BaAjfnrzUaHfAWImVrLIXbgnx4/9X06s35cweWsVACa3a24PVp0X+rPv1aHFnSONdiL8Qci0lzwpOM5sQAAAABJRU5ErkJggg==\"></button>\n",
       "    <button onclick=\"animYKNTOAJJIPMRCGEG.faster()\">+</button>\n",
       "  <form action=\"#n\" name=\"_anim_loop_selectYKNTOAJJIPMRCGEG\" class=\"anim_control\">\n",
       "    <input type=\"radio\" name=\"state\" value=\"once\" > Once </input>\n",
       "    <input type=\"radio\" name=\"state\" value=\"loop\" checked> Loop </input>\n",
       "    <input type=\"radio\" name=\"state\" value=\"reflect\" > Reflect </input>\n",
       "  </form>\n",
       "</div>\n",
       "\n",
       "\n",
       "<script language=\"javascript\">\n",
       "  /* Instantiate the Animation class. */\n",
       "  /* The IDs given should match those used in the template above. */\n",
       "  (function() {\n",
       "    var img_id = \"_anim_imgYKNTOAJJIPMRCGEG\";\n",
       "    var slider_id = \"_anim_sliderYKNTOAJJIPMRCGEG\";\n",
       "    var loop_select_id = \"_anim_loop_selectYKNTOAJJIPMRCGEG\";\n",
       "    var frames = new Array(0);\n",
       "    \n",
       "  frames[0] = \"data:image/png;base64,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\"\n",
       "\n",
       "\n",
       "    /* set a timeout to make sure all the above elements are created before\n",
       "       the object is initialized. */\n",
       "    setTimeout(function() {\n",
       "        animYKNTOAJJIPMRCGEG = new Animation(frames, img_id, slider_id, 29, loop_select_id);\n",
       "    }, 0);\n",
       "  })()\n",
       "</script>\n"
      ],
      "text/plain": [
       "<matplotlib.animation.FuncAnimation at 0x7fc0a2757fd0>"
      ]
     },
     "execution_count": 7,
     "metadata": {},
     "output_type": "execute_result"
    }
   ],
   "source": [
    "from matplotlib import animation\n",
    "from JSAnimation import IPython_display\n",
    "\n",
    "\n",
    "fig = plt.figure()\n",
    "ax = plt.axes(xlim=(-1,1), ylim=(-1,1))\n",
    "pc = ax.pcolormesh(x,y,u1[0,:,:],vmin=0., vmax = 1., cmap=plt.cm.hot)\n",
    "plt.axis('equal')\n",
    "# def init(u0):\n",
    "\n",
    "#     pc.set_array(u0[:-1,:-1].ravel())\n",
    "#     return pc\n",
    "\n",
    "def animate(i,u0):\n",
    "    pc.set_array(u1[i*100,:-1,:-1].ravel())\n",
    "    return pc\n",
    "\n",
    "animation.FuncAnimation(fig, animate, frames=100, interval=30,fargs=(u0*1.,))"
   ]
  },
  {
   "cell_type": "code",
   "execution_count": null,
   "metadata": {
    "collapsed": false
   },
   "outputs": [],
   "source": [
    "plt.cm.hot."
   ]
  },
  {
   "cell_type": "code",
   "execution_count": null,
   "metadata": {
    "collapsed": false
   },
   "outputs": [],
   "source": [
    "plt.colormaps"
   ]
  },
  {
   "cell_type": "code",
   "execution_count": null,
   "metadata": {
    "collapsed": false
   },
   "outputs": [],
   "source": [
    "plt.cm.hot."
   ]
  },
  {
   "cell_type": "code",
   "execution_count": null,
   "metadata": {
    "collapsed": true
   },
   "outputs": [],
   "source": []
  }
 ],
 "metadata": {
  "kernelspec": {
   "display_name": "Python 2",
   "language": "python",
   "name": "python2"
  },
  "language_info": {
   "codemirror_mode": {
    "name": "ipython",
    "version": 2
   },
   "file_extension": ".py",
   "mimetype": "text/x-python",
   "name": "python",
   "nbconvert_exporter": "python",
   "pygments_lexer": "ipython2",
   "version": "2.7.11"
  }
 },
 "nbformat": 4,
 "nbformat_minor": 0
}
