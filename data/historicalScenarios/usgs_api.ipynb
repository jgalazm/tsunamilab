{
 "cells": [
  {
   "cell_type": "markdown",
   "metadata": {
    "slideshow": {
     "slide_type": "slide"
    }
   },
   "source": [
    "# USGS API\n",
    "My own \"tutorial\".\n",
    "\n",
    "The idea is to send url queries to the usgs db"
   ]
  },
  {
   "cell_type": "code",
   "execution_count": 1,
   "metadata": {
    "collapsed": true,
    "slideshow": {
     "slide_type": "fragment"
    }
   },
   "outputs": [],
   "source": [
    "from lxml import html\n",
    "import requests"
   ]
  },
  {
   "cell_type": "markdown",
   "metadata": {
    "slideshow": {
     "slide_type": "fragment"
    }
   },
   "source": [
    "First I study the GeoJson format:\n",
    "\n",
    "http://earthquake.usgs.gov/earthquakes/feed/v1.0/geojson.php"
   ]
  },
  {
   "cell_type": "code",
   "execution_count": 2,
   "metadata": {
    "collapsed": false,
    "slideshow": {
     "slide_type": "fragment"
    }
   },
   "outputs": [],
   "source": [
    "# s = \"http://earthquake.usgs.gov/earthquakes/feed/v1.0/summary/significant_week.geojson\"\n",
    "s = \"http://earthquake.usgs.gov/earthquakes/feed/v1.0/summary/significant_month.geojson\"\n",
    "# s = \"http://earthquake.usgs.gov/fdsnws/event/1/query?format=geojson&starttime=2014-01-01&endtime=2014-01-02\"\n",
    "r = requests.get(s)"
   ]
  },
  {
   "cell_type": "markdown",
   "metadata": {
    "slideshow": {
     "slide_type": "fragment"
    }
   },
   "source": [
    "Convert the json string to a dictionary"
   ]
  },
  {
   "cell_type": "code",
   "execution_count": 3,
   "metadata": {
    "collapsed": false,
    "slideshow": {
     "slide_type": "fragment"
    }
   },
   "outputs": [
    {
     "data": {
      "text/plain": [
       "[u'type', u'features', u'bbox', u'metadata']"
      ]
     },
     "execution_count": 3,
     "metadata": {},
     "output_type": "execute_result"
    }
   ],
   "source": [
    "import json\n",
    "d = json.loads(r.content)\n",
    "d.keys()"
   ]
  },
  {
   "cell_type": "markdown",
   "metadata": {
    "slideshow": {
     "slide_type": "subslide"
    }
   },
   "source": [
    "As is shown in the website address mentioned above, each file is of this form:"
   ]
  },
  {
   "cell_type": "markdown",
   "metadata": {
    "slideshow": {
     "slide_type": "fragment"
    }
   },
   "source": [
    "```json\n",
    "{\n",
    "  type: \"FeatureCollection\",\n",
    "  metadata: { \n",
    "  ...\n",
    "  },\n",
    "  bbox: [\n",
    "    ...\n",
    "  ],\n",
    "  features: [\n",
    "    {\n",
    "      type: \"Feature\",\n",
    "      properties: {\n",
    "        mag: Decimal,\n",
    "        ...\n",
    "        tsunami: Integer,\n",
    "        ...\n",
    "        magType: String,\n",
    "        type: String\n",
    "      },\n",
    "      geometry: {\n",
    "        type: \"Point\",\n",
    "        coordinates: [\n",
    "          longitude,\n",
    "          latitude,\n",
    "          depth\n",
    "        ]\n",
    "      },\n",
    "      id: String\n",
    "    },\n",
    "    …\n",
    "  ]\n",
    "}\n",
    "```"
   ]
  },
  {
   "cell_type": "code",
   "execution_count": 4,
   "metadata": {
    "collapsed": false,
    "scrolled": false,
    "slideshow": {
     "slide_type": "subslide"
    }
   },
   "outputs": [
    {
     "name": "stdout",
     "output_type": "stream",
     "text": [
      "place = 3km SE of Piedmont, California \n",
      "\tcoords = [-122.1975, 37.8046667, 4.02]\n",
      "\tmag = 3.540mwm tsunami = 0 Type = earthquake\n",
      "place = 8km S of Kyonju, South Korea \n",
      "\tcoords = [129.2267, 35.7686, 10]\n",
      "\tmag = 5.400mbm tsunami = 0 Type = earthquake\n",
      "place = 4km ENE of Skopje, Macedonia \n",
      "\tcoords = [21.4809, 42.0124, 10]\n",
      "\tmag = 5.300mbm tsunami = 0 Type = earthquake\n",
      "place = 22km NE of Nsunga, Tanzania \n",
      "\tcoords = [31.5604, -1.0302, 40]\n",
      "\tmag = 5.900mwwm tsunami = 0 Type = earthquake\n",
      "place = 0km WSW of Spencer, Oklahoma \n",
      "\tcoords = [-97.3848, 35.5213, 5]\n",
      "\tmag = 3.800mb_lgm tsunami = 0 Type = earthquake\n",
      "place = 19km ENE of Sungjibaegam, North Korea \n",
      "\tcoords = [129.0147, 41.2977, 0]\n",
      "\tmag = 5.300mbm tsunami = 0 Type = explosion\n",
      "place = 189km ESE of Nikol'skoye, Russia \n",
      "\tcoords = [168.5734, 54.3674, 12.32]\n",
      "\tmag = 6.300mwpm tsunami = 0 Type = earthquake\n",
      "place = 15km NW of Pawnee, Oklahoma \n",
      "\tcoords = [-96.9317, 36.4298, 5.4]\n",
      "\tmag = 5.800mwwm tsunami = 0 Type = earthquake\n",
      "place = 103km W of Ferndale, California \n",
      "\tcoords = [-125.6876667, 40.3208333, 28.57]\n",
      "\tmag = 5.640mwm tsunami = 1 Type = earthquake\n",
      "place = 166km NE of Gisborne, New Zealand \n",
      "\tcoords = [179.0548, -37.401, 19]\n",
      "\tmag = 7.100mwwm tsunami = 1 Type = earthquake\n",
      "place = 39km E of Namatanai, Papua New Guinea \n",
      "\tcoords = [152.7879, -3.6914, 499.06]\n",
      "\tmag = 6.700mwpm tsunami = 1 Type = earthquake\n",
      "place = North of Ascension Island \n",
      "\tcoords = [-17.8294, -0.0471, 10]\n",
      "\tmag = 7.100mwwm tsunami = 1 Type = earthquake\n",
      "place = 25km W of Chauk, Burma \n",
      "\tcoords = [94.5789, 20.9192, 84.07]\n",
      "\tmag = 6.800mwpm tsunami = 0 Type = earthquake\n",
      "place = 5km NNE of Norcia, Italy \n",
      "\tcoords = [13.1319, 42.8335, 4.95]\n",
      "\tmag = 5.600mwwm tsunami = 0 Type = earthquake\n",
      "place = 10km SE of Norcia, Italy \n",
      "\tcoords = [13.1822, 42.7199, 5.25]\n",
      "\tmag = 6.200mwwm tsunami = 0 Type = earthquake\n",
      "place = South Georgia Island region \n",
      "\tcoords = [-31.7546, -55.2775, 10]\n",
      "\tmag = 6.400mwpm tsunami = 0 Type = earthquake\n",
      "place = South Georgia Island region \n",
      "\tcoords = [-31.8766, -55.2852, 10]\n",
      "\tmag = 7.400mwwm tsunami = 0 Type = earthquake\n",
      "place = 54km ENE of Bowen, Australia \n",
      "\tcoords = [148.7255, -19.8593, 7.82]\n",
      "\tmag = 5.700mbm tsunami = 0 Type = earthquake\n"
     ]
    }
   ],
   "source": [
    "for f in d['features']:\n",
    "    coords = f['geometry']['coordinates']\n",
    "    place = f['properties']['place']\n",
    "    mag = f['properties']['mag']\n",
    "    magType = f['properties']['magType'] \n",
    "    tsunamiFlag = f['properties']['tsunami']\n",
    "    Type = f['properties']['type']\n",
    "    print 'place = %s \\n\\tcoords ='%place,coords\n",
    "    print '\\tmag = %.3f%sm tsunami = %i Type = %s'%(mag,magType,tsunamiFlag, Type)"
   ]
  },
  {
   "cell_type": "markdown",
   "metadata": {
    "slideshow": {
     "slide_type": "slide"
    }
   },
   "source": [
    "# Sending Queries to the USGS API"
   ]
  },
  {
   "cell_type": "markdown",
   "metadata": {},
   "source": [
    "The API can give many kind of answers (methods), as is well explained here\n",
    "\n",
    "http://earthquake.usgs.gov/fdsnws/event/1/"
   ]
  },
  {
   "cell_type": "markdown",
   "metadata": {
    "slideshow": {
     "slide_type": "subslide"
    }
   },
   "source": [
    "The first kind of interest is the \"count\" method which indicates how many results are associated to the querystring\n",
    "\n",
    "http://earthquake.usgs.gov/fdsnws/event/1/count?format=geojson&starttime=2014-01-01&endtime=2014-01-02"
   ]
  },
  {
   "cell_type": "markdown",
   "metadata": {},
   "source": [
    "The other is the \"query\" method, which actually performs the query\n",
    "\n",
    "http://earthquake.usgs.gov/fdsnws/event/1/query?format=geojson&starttime=2014-01-01&endtime=2014-01-02"
   ]
  },
  {
   "cell_type": "markdown",
   "metadata": {
    "slideshow": {
     "slide_type": "subslide"
    }
   },
   "source": [
    "Two kind of queries that can be interesting are:\n",
    "1. Get all events bigger than a certain magnitude, considering the whole planet.\n",
    "2. Given a point location, return all events \"close\" to that point, or the closest one. Close means a predefined radius."
   ]
  },
  {
   "cell_type": "markdown",
   "metadata": {
    "slideshow": {
     "slide_type": "subslide"
    }
   },
   "source": [
    "For now, only the first kind of query.\n",
    "\n",
    "## Query all events with magnitude over 9.0"
   ]
  },
  {
   "cell_type": "code",
   "execution_count": null,
   "metadata": {
    "collapsed": true,
    "hide_input": true
   },
   "outputs": [],
   "source": []
  },
  {
   "cell_type": "code",
   "execution_count": 5,
   "metadata": {
    "collapsed": false
   },
   "outputs": [],
   "source": [
    "baseCountString = \"http://earthquake.usgs.gov/fdsnws/event/1/count?format=geojson\"\n",
    "baseQueryString = \"http://earthquake.usgs.gov/fdsnws/event/1/query?format=geojson\"\n",
    "startTime = \"&starttime=0000-01-01\"\n",
    "endTime = \"&endtime=2016-01-02\"\n",
    "minMagnitudeString = \"&minmagnitude=9.0\"\n",
    "qString = baseQueryString + startTime + endTime + minMagnitudeString\n",
    "cString = baseCountString + startTime + endTime + minMagnitudeString"
   ]
  },
  {
   "cell_type": "code",
   "execution_count": 6,
   "metadata": {
    "collapsed": false
   },
   "outputs": [
    {
     "data": {
      "text/plain": [
       "{u'count': 4, u'maxAllowed': 20000}"
      ]
     },
     "execution_count": 6,
     "metadata": {},
     "output_type": "execute_result"
    }
   ],
   "source": [
    "countMag9 = requests.get(cString)\n",
    "dCountMag9 = json.loads(countMag9.content)\n",
    "dCountMag9"
   ]
  },
  {
   "cell_type": "code",
   "execution_count": 7,
   "metadata": {
    "collapsed": false
   },
   "outputs": [],
   "source": [
    "queryMag9 = requests.get(qString)\n",
    "dQueryMag9 = json.loads(queryMag9.content)"
   ]
  },
  {
   "cell_type": "code",
   "execution_count": 8,
   "metadata": {
    "collapsed": false,
    "scrolled": true
   },
   "outputs": [
    {
     "name": "stdout",
     "output_type": "stream",
     "text": [
      "place = near the east coast of Honshu, Japan \n",
      "\tcoords = [142.373, 38.297, 29]\n",
      "\tmag = 9.000mwwm tsunami = 0 Type = earthquake\n",
      "place = off the west coast of northern Sumatra \n",
      "\tcoords = [95.982, 3.295, 30]\n",
      "\tmag = 9.100mwm tsunami = 0 Type = earthquake\n",
      "place = Southern Alaska \n",
      "\tcoords = [-147.339, 60.908, 25]\n",
      "\tmag = 9.300mwm tsunami = 0 Type = earthquake\n",
      "place = Bio-Bio, Chile \n",
      "\tcoords = [-73.407, -38.143, 25]\n",
      "\tmag = 9.600mwm tsunami = 0 Type = earthquake\n"
     ]
    }
   ],
   "source": [
    "for f in dQueryMag9['features']:\n",
    "    coords = f['geometry']['coordinates']\n",
    "    place = f['properties']['place']\n",
    "    mag = f['properties']['mag']\n",
    "    magType = f['properties']['magType'] \n",
    "    tsunamiFlag = f['properties']['tsunami']\n",
    "    Type = f['properties']['type']\n",
    "    print 'place = %s \\n\\tcoords ='%place,coords\n",
    "    print '\\tmag = %.3f%sm tsunami = %i Type = %s'%(mag,magType,tsunamiFlag, Type)"
   ]
  },
  {
   "cell_type": "code",
   "execution_count": 9,
   "metadata": {
    "collapsed": false
   },
   "outputs": [
    {
     "data": {
      "text/plain": [
       "[u'rms',\n",
       " u'code',\n",
       " u'cdi',\n",
       " u'sources',\n",
       " u'nst',\n",
       " u'tz',\n",
       " u'title',\n",
       " u'magType',\n",
       " u'detail',\n",
       " u'sig',\n",
       " u'net',\n",
       " u'type',\n",
       " u'status',\n",
       " u'updated',\n",
       " u'felt',\n",
       " u'alert',\n",
       " u'dmin',\n",
       " u'mag',\n",
       " u'gap',\n",
       " u'types',\n",
       " u'url',\n",
       " u'ids',\n",
       " u'tsunami',\n",
       " u'place',\n",
       " u'time',\n",
       " u'mmi']"
      ]
     },
     "execution_count": 9,
     "metadata": {},
     "output_type": "execute_result"
    }
   ],
   "source": [
    "f[\"properties\"].keys()"
   ]
  },
  {
   "cell_type": "markdown",
   "metadata": {},
   "source": [
    "# Moment tensor query"
   ]
  },
  {
   "cell_type": "code",
   "execution_count": 10,
   "metadata": {
    "collapsed": true
   },
   "outputs": [],
   "source": [
    "baseQueryString = \"http://earthquake.usgs.gov/fdsnws/event/1/query?format=geojson\"\n",
    "startTime = \"&starttime=0000-01-01\"\n",
    "endTime = \"&endtime=2016-01-02\"\n",
    "minMagnitudeString = \"&minmagnitude=8.0\"\n",
    "productType = \"&producttype=moment-tensor\"\n",
    "qString = baseQueryString + startTime + endTime + minMagnitudeString + productType"
   ]
  },
  {
   "cell_type": "code",
   "execution_count": 11,
   "metadata": {
    "collapsed": false
   },
   "outputs": [
    {
     "name": "stdout",
     "output_type": "stream",
     "text": [
      "http://earthquake.usgs.gov/fdsnws/event/1/query?format=geojson&starttime=0000-01-01&endtime=2016-01-02&minmagnitude=8.0&producttype=moment-tensor\n"
     ]
    }
   ],
   "source": [
    "print  qString"
   ]
  },
  {
   "cell_type": "code",
   "execution_count": 12,
   "metadata": {
    "collapsed": true
   },
   "outputs": [],
   "source": [
    "queryMag9_withMoment = requests.get(qString)\n",
    "dQueryWithMoment = json.loads(queryMag9_withMoment.content)"
   ]
  },
  {
   "cell_type": "code",
   "execution_count": 13,
   "metadata": {
    "collapsed": false
   },
   "outputs": [
    {
     "name": "stdout",
     "output_type": "stream",
     "text": [
      "place = 48km W of Illapel, Chile \n",
      "\tcoords = [-71.6744, -31.5729, 22.44]\n",
      "\tmag = 8.300mwwm tsunami = 1 Type = earthquake\n",
      "place = 94km NW of Iquique, Chile \n",
      "\tcoords = [-70.7691, -19.6097, 25]\n",
      "\tmag = 8.200mwwm tsunami = 1 Type = earthquake\n",
      "place = Sea of Okhotsk \n",
      "\tcoords = [153.221, 54.892, 598.1]\n",
      "\tmag = 8.300mwwm tsunami = 1 Type = earthquake\n",
      "place = 76km W of Lata, Solomon Islands \n",
      "\tcoords = [165.114, -10.799, 24]\n",
      "\tmag = 8.000mwwm tsunami = 1 Type = earthquake\n",
      "place = off the west coast of northern Sumatra \n",
      "\tcoords = [92.463, 0.802, 25.1]\n",
      "\tmag = 8.200mwcm tsunami = 0 Type = earthquake\n",
      "place = off the west coast of northern Sumatra \n",
      "\tcoords = [93.063, 2.327, 20]\n",
      "\tmag = 8.600mwwm tsunami = 0 Type = earthquake\n",
      "place = near the east coast of Honshu, Japan \n",
      "\tcoords = [142.373, 38.297, 29]\n",
      "\tmag = 9.000mwwm tsunami = 0 Type = earthquake\n",
      "place = offshore Bio-Bio, Chile \n",
      "\tcoords = [-72.898, -36.122, 22.9]\n",
      "\tmag = 8.800mwcm tsunami = 0 Type = earthquake\n",
      "place = Samoa Islands region \n",
      "\tcoords = [-172.095, -15.489, 18]\n",
      "\tmag = 8.100mwcm tsunami = 0 Type = earthquake\n",
      "place = southern Sumatra, Indonesia \n",
      "\tcoords = [101.367, -4.438, 34]\n",
      "\tmag = 8.500mwcm tsunami = 0 Type = earthquake\n",
      "place = near the coast of central Peru \n",
      "\tcoords = [-76.603, -13.386, 39]\n",
      "\tmag = 8.000mwcm tsunami = 0 Type = earthquake\n",
      "place = Solomon Islands \n",
      "\tcoords = [157.043, -8.466, 24]\n",
      "\tmag = 8.100mwcm tsunami = 0 Type = earthquake\n",
      "place = east of the Kuril Islands \n",
      "\tcoords = [154.524, 46.243, 10]\n",
      "\tmag = 8.100mwcm tsunami = 0 Type = earthquake\n",
      "place = Kuril Islands \n",
      "\tcoords = [153.266, 46.592, 10]\n",
      "\tmag = 8.300mwcm tsunami = 0 Type = earthquake\n",
      "place = Tonga \n",
      "\tcoords = [-174.123, -20.187, 55]\n",
      "\tmag = 8.000mwcm tsunami = 0 Type = earthquake\n",
      "place = northern Sumatra, Indonesia \n",
      "\tcoords = [97.108, 2.085, 30]\n",
      "\tmag = 8.600mwcm tsunami = 0 Type = earthquake\n",
      "place = off the west coast of northern Sumatra \n",
      "\tcoords = [95.982, 3.295, 30]\n",
      "\tmag = 9.100mwm tsunami = 0 Type = earthquake\n",
      "place = north of Macquarie Island \n",
      "\tcoords = [161.345, -49.312, 10]\n",
      "\tmag = 8.100mwcm tsunami = 0 Type = earthquake\n",
      "place = Hokkaido, Japan region \n",
      "\tcoords = [143.91, 41.815, 27]\n",
      "\tmag = 8.300mwcm tsunami = 0 Type = earthquake\n",
      "place = near the coast of southern Peru \n",
      "\tcoords = [-73.641, -16.265, 33]\n",
      "\tmag = 8.400mwcm tsunami = 0 Type = earthquake\n",
      "place = New Ireland region, Papua New Guinea \n",
      "\tcoords = [152.169, -3.98, 33]\n",
      "\tmag = 8.000mwcm tsunami = 0 Type = earthquake\n",
      "place = Balleny Islands region \n",
      "\tcoords = [149.527, -62.877, 10]\n",
      "\tmag = 8.100mwcm tsunami = 0 Type = earthquake\n",
      "place = Biak region, Indonesia \n",
      "\tcoords = [136.952, -0.891, 33]\n",
      "\tmag = 8.200mwm tsunami = 0 Type = earthquake\n",
      "place = Colima, Mexico \n",
      "\tcoords = [-104.205, 19.055, 33]\n",
      "\tmag = 8.000mwm tsunami = 0 Type = earthquake\n",
      "place = Antofagasta, Chile \n",
      "\tcoords = [-70.294, -23.34, 45.6]\n",
      "\tmag = 8.000mwm tsunami = 0 Type = earthquake\n",
      "place = Kuril Islands \n",
      "\tcoords = [147.321, 43.773, 14]\n",
      "\tmag = 8.300mwm tsunami = 0 Type = earthquake\n",
      "place = La Paz, Bolivia \n",
      "\tcoords = [-67.553, -13.841, 631.3]\n",
      "\tmag = 8.200mwm tsunami = 0 Type = earthquake\n",
      "place = Macquarie Island region \n",
      "\tcoords = [160.568, -52.341, 10]\n",
      "\tmag = 8.200mwm tsunami = 0 Type = earthquake\n",
      "place = Andreanof Islands, Aleutian Islands, Alaska \n",
      "\tcoords = [-174.776, 51.52, 33]\n",
      "\tmag = 8.000mwm tsunami = 0 Type = earthquake\n",
      "place = Michoacan, Mexico \n",
      "\tcoords = [-102.533, 18.19, 27.9]\n",
      "\tmag = 8.000mwm tsunami = 0 Type = earthquake\n",
      "place = offshore Valparaiso, Chile \n",
      "\tcoords = [-71.871, -33.135, 33]\n",
      "\tmag = 8.000mwm tsunami = 0 Type = earthquake\n",
      "place = Kermadec Islands region \n",
      "\tcoords = [-177.657, -28.427, 33]\n",
      "\tmag = 8.000msm tsunami = 0 Type = earthquake\n"
     ]
    }
   ],
   "source": [
    "a ={}\n",
    "for f in dQueryWithMoment['features']:\n",
    "    coords = f['geometry']['coordinates']\n",
    "    place = f['properties']['place']\n",
    "    mag = f['properties']['mag']\n",
    "    magType = f['properties']['magType'] \n",
    "    tsunamiFlag = f['properties']['tsunami']\n",
    "    Type = f['properties']['type']\n",
    "    print 'place = %s \\n\\tcoords ='%place,coords\n",
    "    print '\\tmag = %.3f%sm tsunami = %i Type = %s'%(mag,magType,tsunamiFlag, Type)\n",
    "    a[place] = {'name': '-'}"
   ]
  },
  {
   "cell_type": "markdown",
   "metadata": {},
   "source": [
    "Query the moment-tensor data for a particular scenario"
   ]
  },
  {
   "cell_type": "code",
   "execution_count": 14,
   "metadata": {
    "collapsed": false
   },
   "outputs": [
    {
     "name": "stdout",
     "output_type": "stream",
     "text": [
      "http://earthquake.usgs.gov/fdsnws/event/1/query?format=geojson&eventid=usp0000ee7\n"
     ]
    }
   ],
   "source": [
    "f[\"id\"]\n",
    "eventIdString =\"&eventid=%s\"%f[\"id\"]\n",
    "qMomentString = baseQueryString + eventIdString\n",
    "print qMomentString"
   ]
  },
  {
   "cell_type": "code",
   "execution_count": 15,
   "metadata": {
    "collapsed": true
   },
   "outputs": [],
   "source": [
    "queryMoment = requests.get(qMomentString)\n",
    "dQueryMoment = json.loads(queryMoment.content)"
   ]
  },
  {
   "cell_type": "code",
   "execution_count": 16,
   "metadata": {
    "collapsed": false
   },
   "outputs": [
    {
     "name": "stdout",
     "output_type": "stream",
     "text": [
      "w=159, dip=11, rake=71, strike=189\n"
     ]
    }
   ],
   "source": [
    "tensors = dQueryMoment['properties']['products']['moment-tensor']\n",
    "for i in range(len((tensors))):\n",
    "    m = dQueryMoment['properties']['products']['moment-tensor'][i]\n",
    "    print 'w=%s, dip=%s, rake=%s, strike=%s'%(m['preferredWeight'], m['properties']['nodal-plane-1-dip'], \\\n",
    "            m['properties']['nodal-plane-1-rake'], m['properties']['nodal-plane-1-strike'])"
   ]
  }
 ],
 "metadata": {
  "anaconda-cloud": {},
  "kernelspec": {
   "display_name": "Python 2",
   "language": "python",
   "name": "python2"
  },
  "language_info": {
   "codemirror_mode": {
    "name": "ipython",
    "version": 2
   },
   "file_extension": ".py",
   "mimetype": "text/x-python",
   "name": "python",
   "nbconvert_exporter": "python",
   "pygments_lexer": "ipython2",
   "version": "2.7.11"
  }
 },
 "nbformat": 4,
 "nbformat_minor": 0
}
