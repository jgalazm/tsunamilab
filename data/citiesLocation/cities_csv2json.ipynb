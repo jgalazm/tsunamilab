{
 "cells": [
  {
   "cell_type": "markdown",
   "metadata": {},
   "source": [
    "# Convert cities location data to json format"
   ]
  },
  {
   "cell_type": "markdown",
   "metadata": {},
   "source": [
    "Data from https://developers.google.com/public-data/docs/canonical/countries_csv"
   ]
  },
  {
   "cell_type": "code",
   "execution_count": 1,
   "metadata": {
    "collapsed": true
   },
   "outputs": [],
   "source": [
    "import numpy as np\n",
    "import matplotlib.pyplot as plt\n",
    "%matplotlib inline"
   ]
  },
  {
   "cell_type": "code",
   "execution_count": 2,
   "metadata": {
    "collapsed": true
   },
   "outputs": [],
   "source": [
    "import pandas as pd"
   ]
  },
  {
   "cell_type": "code",
   "execution_count": 3,
   "metadata": {
    "collapsed": true
   },
   "outputs": [],
   "source": [
    "np.genfromtxt?"
   ]
  },
  {
   "cell_type": "code",
   "execution_count": 4,
   "metadata": {
    "collapsed": false,
    "scrolled": true
   },
   "outputs": [],
   "source": [
    "cities = pd.read_csv('cities.csv');"
   ]
  },
  {
   "cell_type": "code",
   "execution_count": 5,
   "metadata": {
    "collapsed": false
   },
   "outputs": [
    {
     "data": {
      "text/plain": [
       "pandas.core.frame.DataFrame"
      ]
     },
     "execution_count": 5,
     "metadata": {},
     "output_type": "execute_result"
    }
   ],
   "source": [
    "type(cities)"
   ]
  },
  {
   "cell_type": "code",
   "execution_count": 6,
   "metadata": {
    "collapsed": false
   },
   "outputs": [
    {
     "data": {
      "text/plain": [
       "23.424075999999999"
      ]
     },
     "execution_count": 6,
     "metadata": {},
     "output_type": "execute_result"
    }
   ],
   "source": [
    "cities.loc[0][1]"
   ]
  },
  {
   "cell_type": "code",
   "execution_count": 7,
   "metadata": {
    "collapsed": false
   },
   "outputs": [],
   "source": [
    "citiesDict = {}\n",
    "for i in range(cities.shape[0]):\n",
    "    citiesDict[cities.loc[i][3]] = [cities.loc[i][1],cities.loc[i][2]]"
   ]
  },
  {
   "cell_type": "code",
   "execution_count": 8,
   "metadata": {
    "collapsed": false
   },
   "outputs": [],
   "source": [
    "import json\n",
    "f = open('citiesLocation.json','w')\n",
    "a = json.dumps(citiesDict,indent=2)\n",
    "f.write(a)\n",
    "f.close()"
   ]
  },
  {
   "cell_type": "code",
   "execution_count": 9,
   "metadata": {
    "collapsed": true
   },
   "outputs": [],
   "source": [
    "!mv citiesLocation.json ../../web/app//data/."
   ]
  },
  {
   "cell_type": "markdown",
   "metadata": {},
   "source": [
    "# Draw them in a sphere"
   ]
  },
  {
   "cell_type": "code",
   "execution_count": 10,
   "metadata": {
    "collapsed": false
   },
   "outputs": [
    {
     "data": {
      "image/png": "[encoded data removed]",
      "text/plain": [
       "<matplotlib.figure.Figure at 0x7fa4e8df9990>"
      ]
     },
     "metadata": {},
     "output_type": "display_data"
    }
   ],
   "source": [
    "from mpl_toolkits.mplot3d import Axes3D\n",
    "\n",
    "fig = plt.figure(figsize=(9*1.5,4*1.5))\n",
    "ax = fig.add_subplot(111, projection='3d')\n",
    "\n",
    "#sphere\n",
    "u = np.linspace(0, 2 * np.pi, 100)\n",
    "v = np.linspace(0, np.pi, 100)\n",
    "xs = 10 * np.outer(np.cos(u), np.sin(v))\n",
    "ys = 10 * np.outer(np.sin(u), np.sin(v))\n",
    "zs = 10 * np.outer(np.ones(np.size(u)), np.cos(v))\n",
    "ax.plot_surface(xs, ys, zs, rstride=2, cstride=2, color='w', lw=0)\n",
    "\n",
    "\n",
    "#points\n",
    "deg2rad=np.pi/180.\n",
    "for i in range(cities.shape[0]):\n",
    "    lat,lon= [cities.loc[i][1],cities.loc[i][2]]\n",
    "#     print lat\n",
    "    xp = 10.*np.cos(lat*deg2rad)*np.cos(lon*deg2rad)\n",
    "    yp = 10.*np.cos(lat*deg2rad)*np.sin(lon*deg2rad)\n",
    "    zp = 10.*np.sin(lat*deg2rad)\n",
    "\n",
    "    ax.scatter(xp,yp,zp)\n",
    "\n",
    "ax.set_aspect(1)\n",
    "ax.set_axis_off()"
   ]
  }
 ],
 "metadata": {
  "anaconda-cloud": {},
  "kernelspec": {
   "display_name": "Python 2",
   "language": "python",
   "name": "python2"
  },
  "language_info": {
   "codemirror_mode": {
    "name": "ipython",
    "version": 2
   },
   "file_extension": ".py",
   "mimetype": "text/x-python",
   "name": "python",
   "nbconvert_exporter": "python",
   "pygments_lexer": "ipython2",
   "version": "2.7.11"
  }
 },
 "nbformat": 4,
 "nbformat_minor": 0
}
