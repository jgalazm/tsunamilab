{
 "cells": [
  {
   "cell_type": "code",
   "execution_count": 1,
   "metadata": {
    "collapsed": true
   },
   "outputs": [],
   "source": [
    "import numpy as np\n",
    "from vispy import app\n",
    "from vispy import gloo"
   ]
  },
  {
   "cell_type": "code",
   "execution_count": 2,
   "metadata": {
    "collapsed": true
   },
   "outputs": [],
   "source": [
    "c = app.Canvas(keys='interactive')"
   ]
  },
  {
   "cell_type": "code",
   "execution_count": 12,
   "metadata": {
    "collapsed": true
   },
   "outputs": [],
   "source": [
    "vertex = \"\"\"\n",
    "precision highp float;\n",
    "attribute vec2 position;\n",
    "attribute vec2 texcoord;\n",
    "\n",
    "varying vec2 v_texcoord;\n",
    "\n",
    "void main (void)\n",
    "{\n",
    "    v_texcoord = texcoord;\n",
    "    gl_Position = vec4(position, 0.0, 1.0);\n",
    "}\n",
    "\"\"\""
   ]
  },
  {
   "cell_type": "code",
   "execution_count": 13,
   "metadata": {
    "collapsed": true
   },
   "outputs": [],
   "source": [
    "fragment = \"\"\"\n",
    "precision highp float;\n",
    "varying vec2 v_texcoord;\n",
    "\n",
    "void main()\n",
    "{\n",
    "    gl_FragColor = vec4(v_textcoord.x, 0.0, 0.0, 1.0);\n",
    "}\n",
    "\"\"\""
   ]
  },
  {
   "cell_type": "code",
   "execution_count": 14,
   "metadata": {
    "collapsed": true
   },
   "outputs": [],
   "source": [
    "program = gloo.Program(vertex, fragment)"
   ]
  },
  {
   "cell_type": "code",
   "execution_count": 15,
   "metadata": {
    "collapsed": false
   },
   "outputs": [],
   "source": [
    "program[\"position\"] = [(-1, -1), (-1, +1), (+1, -1), (+1, +1)]\n",
    "program[\"texcoord\"] = [(0, 0), (0, 1), (1, 0), (1, 1)]"
   ]
  },
  {
   "cell_type": "code",
   "execution_count": 16,
   "metadata": {
    "collapsed": true
   },
   "outputs": [],
   "source": [
    "@c.connect\n",
    "def on_resize(event):\n",
    "    gloo.set_viewport(0, 0, *event.size)"
   ]
  },
  {
   "cell_type": "code",
   "execution_count": 17,
   "metadata": {
    "collapsed": true
   },
   "outputs": [],
   "source": [
    "@c.connect\n",
    "def on_draw(event):\n",
    "    gloo.clear((1,1,1,1))\n",
    "    program.draw('line_strip')"
   ]
  },
  {
   "cell_type": "code",
   "execution_count": 18,
   "metadata": {
    "collapsed": false,
    "scrolled": false
   },
   "outputs": [
    {
     "name": "stderr",
     "output_type": "stream",
     "text": [
      "WARNING: Traceback (most recent call last):\n",
      "  File \"/home/jgm/anaconda2/lib/python2.7/runpy.py\", line 162, in _run_module_as_main\n",
      "    \"__main__\", fname, loader, pkg_name)\n",
      "  File \"/home/jgm/anaconda2/lib/python2.7/runpy.py\", line 72, in _run_code\n",
      "    exec code in run_globals\n",
      "  File \"/home/jgm/anaconda2/lib/python2.7/site-packages/ipykernel/__main__.py\", line 3, in <module>\n",
      "    app.launch_new_instance()\n",
      "  File \"/home/jgm/anaconda2/lib/python2.7/site-packages/traitlets/config/application.py\", line 592, in launch_instance\n",
      "    app.start()\n",
      "  File \"/home/jgm/anaconda2/lib/python2.7/site-packages/ipykernel/kernelapp.py\", line 403, in start\n",
      "    ioloop.IOLoop.instance().start()\n",
      "  File \"/home/jgm/anaconda2/lib/python2.7/site-packages/zmq/eventloop/ioloop.py\", line 151, in start\n",
      "    super(ZMQIOLoop, self).start()\n",
      "  File \"/home/jgm/anaconda2/lib/python2.7/site-packages/tornado/ioloop.py\", line 883, in start\n",
      "    handler_func(fd_obj, events)\n",
      "  File \"/home/jgm/anaconda2/lib/python2.7/site-packages/tornado/stack_context.py\", line 275, in null_wrapper\n",
      "    return fn(*args, **kwargs)\n",
      "  File \"/home/jgm/anaconda2/lib/python2.7/site-packages/zmq/eventloop/zmqstream.py\", line 433, in _handle_events\n",
      "    self._handle_recv()\n",
      "  File \"/home/jgm/anaconda2/lib/python2.7/site-packages/zmq/eventloop/zmqstream.py\", line 465, in _handle_recv\n",
      "    self._run_callback(callback, msg)\n",
      "  File \"/home/jgm/anaconda2/lib/python2.7/site-packages/zmq/eventloop/zmqstream.py\", line 407, in _run_callback\n",
      "    callback(*args, **kwargs)\n",
      "  File \"/home/jgm/anaconda2/lib/python2.7/site-packages/tornado/stack_context.py\", line 275, in null_wrapper\n",
      "    return fn(*args, **kwargs)\n",
      "  File \"/home/jgm/anaconda2/lib/python2.7/site-packages/ipykernel/kernelbase.py\", line 260, in dispatcher\n",
      "    return self.dispatch_shell(stream, msg)\n",
      "  File \"/home/jgm/anaconda2/lib/python2.7/site-packages/ipykernel/kernelbase.py\", line 212, in dispatch_shell\n",
      "    handler(stream, idents, msg)\n",
      "  File \"/home/jgm/anaconda2/lib/python2.7/site-packages/ipykernel/kernelbase.py\", line 370, in execute_request\n",
      "    user_expressions, allow_stdin)\n",
      "  File \"/home/jgm/anaconda2/lib/python2.7/site-packages/ipykernel/ipkernel.py\", line 175, in do_execute\n",
      "    shell.run_cell(code, store_history=store_history, silent=silent)\n",
      "  File \"/home/jgm/anaconda2/lib/python2.7/site-packages/IPython/core/interactiveshell.py\", line 2902, in run_cell\n",
      "    interactivity=interactivity, compiler=compiler, result=result)\n",
      "  File \"/home/jgm/anaconda2/lib/python2.7/site-packages/IPython/core/interactiveshell.py\", line 3012, in run_ast_nodes\n",
      "    if self.run_code(code, result):\n",
      "  File \"/home/jgm/anaconda2/lib/python2.7/site-packages/IPython/core/interactiveshell.py\", line 3066, in run_code\n",
      "    exec(code_obj, self.user_global_ns, self.user_ns)\n",
      "  File \"<ipython-input-18-7c5b6e06e2a7>\", line 2, in <module>\n",
      "    app.run();\n",
      "  File \"/home/jgm/anaconda2/lib/python2.7/site-packages/vispy/app/_default_app.py\", line 61, in run\n",
      "    return default_app.run()\n",
      "  File \"/home/jgm/anaconda2/lib/python2.7/site-packages/vispy/app/application.py\", line 123, in run\n",
      "    return self._backend._vispy_run()\n",
      "  File \"/home/jgm/anaconda2/lib/python2.7/site-packages/vispy/app/backends/_qt.py\", line 217, in _vispy_run\n",
      "    return app.exec_()\n",
      "  File \"/home/jgm/anaconda2/lib/python2.7/site-packages/vispy/app/backends/_qt.py\", line 631, in paintGL\n",
      "    self._vispy_canvas.events.draw(region=None)\n",
      "  File \"/home/jgm/anaconda2/lib/python2.7/site-packages/vispy/util/event.py\", line 436, in __call__\n",
      "    self._invoke_callback(cb, event)\n",
      "  File \"/home/jgm/anaconda2/lib/python2.7/site-packages/vispy/util/event.py\", line 452, in _invoke_callback\n",
      "    self, cb_event=(cb, event))\n",
      "  << caught exception here: >>\n",
      "  File \"/home/jgm/anaconda2/lib/python2.7/site-packages/vispy/util/event.py\", line 448, in _invoke_callback\n",
      "    cb(event)\n",
      "  File \"<ipython-input-17-c4855e10810a>\", line 4, in on_draw\n",
      "    program.draw('line_strip')\n",
      "  File \"/home/jgm/anaconda2/lib/python2.7/site-packages/vispy/gloo/program.py\", line 467, in draw\n",
      "    canvas.context.flush_commands()\n",
      "  File \"/home/jgm/anaconda2/lib/python2.7/site-packages/vispy/gloo/context.py\", line 164, in flush_commands\n",
      "    self.glir.flush(self.shared.parser)\n",
      "  File \"/home/jgm/anaconda2/lib/python2.7/site-packages/vispy/gloo/glir.py\", line 158, in flush\n",
      "    parser.parse(self._filter(self.clear(), parser))\n",
      "  File \"/home/jgm/anaconda2/lib/python2.7/site-packages/vispy/gloo/glir.py\", line 401, in parse\n",
      "    self._parse(command)\n",
      "  File \"/home/jgm/anaconda2/lib/python2.7/site-packages/vispy/gloo/glir.py\", line 379, in _parse\n",
      "    ob.set_shaders(*args)\n",
      "  File \"/home/jgm/anaconda2/lib/python2.7/site-packages/vispy/gloo/glir.py\", line 563, in set_shaders\n",
      "    (type_ + ' shader', errormsg))\n",
      "RuntimeError: Shader compilation error in vertex shader:\n",
      "    on line 12: error: `v_textcoord' undeclared\n",
      "      v_textcoord = texcoord;\n",
      "    on line 12: error: value of type vec2 cannot be assigned to variable of type error\n",
      "      v_textcoord = texcoord;\n",
      "WARNING:vispy:Traceback (most recent call last):\n",
      "  File \"/home/jgm/anaconda2/lib/python2.7/runpy.py\", line 162, in _run_module_as_main\n",
      "    \"__main__\", fname, loader, pkg_name)\n",
      "  File \"/home/jgm/anaconda2/lib/python2.7/runpy.py\", line 72, in _run_code\n",
      "    exec code in run_globals\n",
      "  File \"/home/jgm/anaconda2/lib/python2.7/site-packages/ipykernel/__main__.py\", line 3, in <module>\n",
      "    app.launch_new_instance()\n",
      "  File \"/home/jgm/anaconda2/lib/python2.7/site-packages/traitlets/config/application.py\", line 592, in launch_instance\n",
      "    app.start()\n",
      "  File \"/home/jgm/anaconda2/lib/python2.7/site-packages/ipykernel/kernelapp.py\", line 403, in start\n",
      "    ioloop.IOLoop.instance().start()\n",
      "  File \"/home/jgm/anaconda2/lib/python2.7/site-packages/zmq/eventloop/ioloop.py\", line 151, in start\n",
      "    super(ZMQIOLoop, self).start()\n",
      "  File \"/home/jgm/anaconda2/lib/python2.7/site-packages/tornado/ioloop.py\", line 883, in start\n",
      "    handler_func(fd_obj, events)\n",
      "  File \"/home/jgm/anaconda2/lib/python2.7/site-packages/tornado/stack_context.py\", line 275, in null_wrapper\n",
      "    return fn(*args, **kwargs)\n",
      "  File \"/home/jgm/anaconda2/lib/python2.7/site-packages/zmq/eventloop/zmqstream.py\", line 433, in _handle_events\n",
      "    self._handle_recv()\n",
      "  File \"/home/jgm/anaconda2/lib/python2.7/site-packages/zmq/eventloop/zmqstream.py\", line 465, in _handle_recv\n",
      "    self._run_callback(callback, msg)\n",
      "  File \"/home/jgm/anaconda2/lib/python2.7/site-packages/zmq/eventloop/zmqstream.py\", line 407, in _run_callback\n",
      "    callback(*args, **kwargs)\n",
      "  File \"/home/jgm/anaconda2/lib/python2.7/site-packages/tornado/stack_context.py\", line 275, in null_wrapper\n",
      "    return fn(*args, **kwargs)\n",
      "  File \"/home/jgm/anaconda2/lib/python2.7/site-packages/ipykernel/kernelbase.py\", line 260, in dispatcher\n",
      "    return self.dispatch_shell(stream, msg)\n",
      "  File \"/home/jgm/anaconda2/lib/python2.7/site-packages/ipykernel/kernelbase.py\", line 212, in dispatch_shell\n",
      "    handler(stream, idents, msg)\n",
      "  File \"/home/jgm/anaconda2/lib/python2.7/site-packages/ipykernel/kernelbase.py\", line 370, in execute_request\n",
      "    user_expressions, allow_stdin)\n",
      "  File \"/home/jgm/anaconda2/lib/python2.7/site-packages/ipykernel/ipkernel.py\", line 175, in do_execute\n",
      "    shell.run_cell(code, store_history=store_history, silent=silent)\n",
      "  File \"/home/jgm/anaconda2/lib/python2.7/site-packages/IPython/core/interactiveshell.py\", line 2902, in run_cell\n",
      "    interactivity=interactivity, compiler=compiler, result=result)\n",
      "  File \"/home/jgm/anaconda2/lib/python2.7/site-packages/IPython/core/interactiveshell.py\", line 3012, in run_ast_nodes\n",
      "    if self.run_code(code, result):\n",
      "  File \"/home/jgm/anaconda2/lib/python2.7/site-packages/IPython/core/interactiveshell.py\", line 3066, in run_code\n",
      "    exec(code_obj, self.user_global_ns, self.user_ns)\n",
      "  File \"<ipython-input-18-7c5b6e06e2a7>\", line 2, in <module>\n",
      "    app.run();\n",
      "  File \"/home/jgm/anaconda2/lib/python2.7/site-packages/vispy/app/_default_app.py\", line 61, in run\n",
      "    return default_app.run()\n",
      "  File \"/home/jgm/anaconda2/lib/python2.7/site-packages/vispy/app/application.py\", line 123, in run\n",
      "    return self._backend._vispy_run()\n",
      "  File \"/home/jgm/anaconda2/lib/python2.7/site-packages/vispy/app/backends/_qt.py\", line 217, in _vispy_run\n",
      "    return app.exec_()\n",
      "  File \"/home/jgm/anaconda2/lib/python2.7/site-packages/vispy/app/backends/_qt.py\", line 631, in paintGL\n",
      "    self._vispy_canvas.events.draw(region=None)\n",
      "  File \"/home/jgm/anaconda2/lib/python2.7/site-packages/vispy/util/event.py\", line 436, in __call__\n",
      "    self._invoke_callback(cb, event)\n",
      "  File \"/home/jgm/anaconda2/lib/python2.7/site-packages/vispy/util/event.py\", line 452, in _invoke_callback\n",
      "    self, cb_event=(cb, event))\n",
      "  << caught exception here: >>\n",
      "  File \"/home/jgm/anaconda2/lib/python2.7/site-packages/vispy/util/event.py\", line 448, in _invoke_callback\n",
      "    cb(event)\n",
      "  File \"<ipython-input-17-c4855e10810a>\", line 4, in on_draw\n",
      "    program.draw('line_strip')\n",
      "  File \"/home/jgm/anaconda2/lib/python2.7/site-packages/vispy/gloo/program.py\", line 467, in draw\n",
      "    canvas.context.flush_commands()\n",
      "  File \"/home/jgm/anaconda2/lib/python2.7/site-packages/vispy/gloo/context.py\", line 164, in flush_commands\n",
      "    self.glir.flush(self.shared.parser)\n",
      "  File \"/home/jgm/anaconda2/lib/python2.7/site-packages/vispy/gloo/glir.py\", line 158, in flush\n",
      "    parser.parse(self._filter(self.clear(), parser))\n",
      "  File \"/home/jgm/anaconda2/lib/python2.7/site-packages/vispy/gloo/glir.py\", line 401, in parse\n",
      "    self._parse(command)\n",
      "  File \"/home/jgm/anaconda2/lib/python2.7/site-packages/vispy/gloo/glir.py\", line 379, in _parse\n",
      "    ob.set_shaders(*args)\n",
      "  File \"/home/jgm/anaconda2/lib/python2.7/site-packages/vispy/gloo/glir.py\", line 563, in set_shaders\n",
      "    (type_ + ' shader', errormsg))\n",
      "RuntimeError: Shader compilation error in vertex shader:\n",
      "    on line 12: error: `v_textcoord' undeclared\n",
      "      v_textcoord = texcoord;\n",
      "    on line 12: error: value of type vec2 cannot be assigned to variable of type error\n",
      "      v_textcoord = texcoord;\n",
      "ERROR: Invoking <function on_draw at 0x7f2c36e36938> for DrawEvent\n",
      "ERROR:vispy:Invoking <function on_draw at 0x7f2c36e36938> for DrawEvent\n",
      "ERROR: Invoking <function on_draw at 0x7f2c4e8972a8> repeat 4\n",
      "ERROR:vispy:Invoking <function on_draw at 0x7f2c4e8972a8> repeat 4\n",
      "ERROR: Invoking <function on_draw at 0x7f2c36e36938> repeat 2\n",
      "ERROR:vispy:Invoking <function on_draw at 0x7f2c36e36938> repeat 2\n",
      "ERROR: Invoking <function on_draw at 0x7f2c4e8972a8> repeat 5\n",
      "ERROR:vispy:Invoking <function on_draw at 0x7f2c4e8972a8> repeat 5\n"
     ]
    }
   ],
   "source": [
    "c.show()\n",
    "app.run();"
   ]
  },
  {
   "cell_type": "code",
   "execution_count": null,
   "metadata": {
    "collapsed": true
   },
   "outputs": [],
   "source": []
  }
 ],
 "metadata": {
  "kernelspec": {
   "display_name": "Python 2",
   "language": "python",
   "name": "python2"
  },
  "language_info": {
   "codemirror_mode": {
    "name": "ipython",
    "version": 2
   },
   "file_extension": ".py",
   "mimetype": "text/x-python",
   "name": "python",
   "nbconvert_exporter": "python",
   "pygments_lexer": "ipython2",
   "version": "2.7.11"
  }
 },
 "nbformat": 4,
 "nbformat_minor": 0
}
