{
 "cells": [
  {
   "cell_type": "code",
   "execution_count": null,
   "metadata": {
    "collapsed": true
   },
   "outputs": [],
   "source": [
    "import numpy as np\n",
    "import matplotlib.pyplot as plt\n",
    "%matplotlib inline"
   ]
  },
  {
   "cell_type": "markdown",
   "metadata": {},
   "source": [
    "* $h:$ coordenada vertical del fondo marino, $>0$ en el agua $<0$ en tierra\n",
    "* $\\eta:$ coordenada vertical de la superficie libre, $>0$ implica el agua está sobre el nivel medio del mar, $\\eta=-h$ en tierra.\n",
    "* $H=h+\\eta$ altura de la columna del agua, $H=0$ en tierra\n",
    "* el $0$ vertical está en el nivel medio del agua WML"
   ]
  },
  {
   "cell_type": "code",
   "execution_count": null,
   "metadata": {
    "collapsed": false
   },
   "outputs": [],
   "source": [
    "nt = 100\n",
    "nx = 100\n",
    "x = np.linspace(0,100,nx)\n",
    "eta = np.zeros((nt,nx))\n",
    "zdepth = np.zeros_like(eta)\n",
    "p = np.zeros((nt,nx))\n",
    "h = np.zeros_like(x)\n",
    "\n",
    "h = h +1.0\n",
    "#eta[0,:] = 0.05*np.exp(-(x-50)**2/50) ##gaussian bell\n",
    "#eta[0,:] = np.where(np.abs(x-50)<20, 0.04, 0.0) #square\n",
    "eta[0,:] = 1/8.*np.where(np.abs(x-50)<20,np.exp(-1./(1-((np.abs(x)-50)/20)**2)),0.0) #mollifier bell\n",
    "zdepth[0,:] = eta[0,:]+h\n",
    "\n",
    "plt.plot(x,eta[0,:])\n",
    "# plt.plot(x,-h)\n",
    "plt.ylim(-0.05,0.05)"
   ]
  },
  {
   "cell_type": "code",
   "execution_count": null,
   "metadata": {
    "collapsed": false
   },
   "outputs": [],
   "source": [
    "cfl = 0.9\n",
    "dx = np.diff(x)[0]\n",
    "dt = cfl*dx/np.sqrt(np.max(h)*9.81)\n",
    "rx = dt/dx\n",
    "gx = 1e-5\n",
    "grx = 9.81*dt/dx"
   ]
  },
  {
   "cell_type": "markdown",
   "metadata": {
    "collapsed": true
   },
   "source": [
    "## Simulacion: sin batimetria"
   ]
  },
  {
   "cell_type": "code",
   "execution_count": null,
   "metadata": {
    "collapsed": false
   },
   "outputs": [],
   "source": [
    "dp1 = np.zeros_like(x)\n",
    "dp2 = np.zeros_like(x)\n",
    "for n in range(nt-1):\n",
    "    ## Mas Loop\n",
    "    for i in range(1, nx-1):\n",
    "        zzz = eta[n,i] - rx*(p[n,i]-p[n,i-1])\n",
    "        DD = zzz + h[i]\n",
    "        zdepth[n+1,i] = DD\n",
    "        eta[n+1,i] = zzz    \n",
    "\n",
    "\n",
    "    ## Calculate total water depth and total water depth a discharge point\n",
    "    for i in range(nx):\n",
    "        ip1 = min(nx-1,i+1)\n",
    "        dp1[i] = 0.25*(zdepth[n+1,i] + zdepth[n,i] + zdepth[n+1,ip1] + zdepth[n, ip1])\n",
    "        dp2[i] = 0.5*(zdepth[n+1,i]+zdepth[n+1,ip1])    \n",
    "\n",
    "    # open boundary\n",
    "    i = 0\n",
    "    if h[i]>gx:\n",
    "        cc = np.sqrt(9.81*h[i])\n",
    "        uh = 0.0 #de acuerdo al codigo fortran\n",
    "        uu = np.sqrt(uh**2+p[n,i]**2)\n",
    "        zz = uu/cc\n",
    "        if p[n,i]>0:\n",
    "            zz = -zz\n",
    "        eta[n+1,i] = zz\n",
    "        zdepth[n+1,i] = zz+h[i]#esto no esta en el codigo original\n",
    "\n",
    "    i = nx-1\n",
    "    if h[i]>gx:\n",
    "        cc = np.sqrt(9.81*h[i])\n",
    "        uh = 0.0 #de acuerdo al codigo fortran\n",
    "        uu = np.sqrt(uh**2+p[n,i-1]**2)\n",
    "        zz = uu/cc\n",
    "        if p[n,i-1]<0:\n",
    "            zz = -zz\n",
    "        eta[n+1,i] = zz     \n",
    "        zdepth[n+1,i] = zz+h[i]##esto no esta en el codigo original\n",
    "        \n",
    "    # momentum loop\n",
    "    for i in range(0,nx-1):\n",
    "        dd = dp2[i]\n",
    "        df = dp1[i]\n",
    "        p[n+1,i] = p[n,i] - 9.81*rx*dd*(eta[n+1,i+1]-eta[n+1,i])\n",
    "\n",
    "\n",
    "\n",
    "        \n",
    "    #sponge layer\n",
    "#     for i in range(nx):\n",
    "#         p[n+1,i] = p[n+1,i] - sponge_coefx[i]*dt*p[n,i]\n",
    "    "
   ]
  },
  {
   "cell_type": "markdown",
   "metadata": {},
   "source": [
    "# JSAnimation"
   ]
  },
  {
   "cell_type": "code",
   "execution_count": null,
   "metadata": {
    "collapsed": false
   },
   "outputs": [],
   "source": [
    "from JSAnimation import IPython_display\n",
    "from matplotlib import animation\n",
    "\n",
    "# create a simple animation\n",
    "fig = plt.figure(figsize=(12,4))\n",
    "ax1 = plt.subplot(121)\n",
    "ax2 = plt.subplot(122)\n",
    "line1, = ax1.plot([], [], lw=2)\n",
    "line2, = ax2.plot([], [], lw=2)\n",
    "\n",
    "ax1.set_xlim(0,100)\n",
    "ax1.set_ylim(0.99-1,1.1-1)\n",
    "ax2.set_xlim(0,100)\n",
    "ax2.set_ylim(-1,1)\n",
    "def init():\n",
    "    line1.set_data([], [])\n",
    "    line2.set_data([],[])\n",
    "    return line1,line2\n",
    "\n",
    "def animate(i):\n",
    "    line1.set_data(x, eta[i*1,:])\n",
    "    line2.set_data(x, p[i*1,:])\n",
    "    return line2,\n",
    "\n",
    "animation.FuncAnimation(fig, animate, init_func=init,\n",
    "                        frames=100, interval=20, blit=True)"
   ]
  },
  {
   "cell_type": "markdown",
   "metadata": {},
   "source": [
    "El borde izquierdo no funciona realmente"
   ]
  },
  {
   "cell_type": "code",
   "execution_count": null,
   "metadata": {
    "collapsed": false
   },
   "outputs": [],
   "source": [
    "plt.plot(p[:,0])"
   ]
  },
  {
   "cell_type": "markdown",
   "metadata": {},
   "source": [
    "## Sponge layer coef"
   ]
  },
  {
   "cell_type": "code",
   "execution_count": null,
   "metadata": {
    "collapsed": false
   },
   "outputs": [],
   "source": [
    "def sponge_coef(x,H):\n",
    "    sponge_coefx = np.zeros_like(x)\n",
    "    wavelength = 1.\n",
    "    width = 20*wavelength\n",
    "    alpha_c = 10.0\n",
    "    alpha_mu = 0.0\n",
    "    M = 2\n",
    "    T = wavelength/np.sqrt(9.81*H)\n",
    "    omega = 2.0*np.pi/T\n",
    "\n",
    "    sponge_width = width\n",
    "    rmax = width\n",
    "\n",
    "    xs = x[0]+sponge_width\n",
    "    xe = x[-1]-sponge_width\n",
    "\n",
    "    for i in range(nx):\n",
    "        if (x[i]<xs):\n",
    "            rx = xs-x[i]\n",
    "        elif x[i]>=xe:\n",
    "            rx = x[i]-xe\n",
    "        else:\n",
    "            rx = 0.0\n",
    "        r = rx\n",
    "        xrel = rx \n",
    "        if xrel<=0:\n",
    "            xrel = 0.0\n",
    "        elif xrel >= rmax:\n",
    "            xrel  = rmax\n",
    "\n",
    "        sponge_coefx[i] = alpha_c*omega*(np.exp((xrel/rmax)**2)-1)/(np.exp(1)-1.0)\n",
    "    return sponge_coefx"
   ]
  },
  {
   "cell_type": "code",
   "execution_count": null,
   "metadata": {
    "collapsed": false
   },
   "outputs": [],
   "source": [
    "sponge_coefx = sponge_coef(x,h[0])\n",
    "plt.plot(x,sponge_coefx)"
   ]
  }
 ],
 "metadata": {
  "kernelspec": {
   "display_name": "Python 2",
   "language": "python",
   "name": "python2"
  },
  "language_info": {
   "codemirror_mode": {
    "name": "ipython",
    "version": 2
   },
   "file_extension": ".py",
   "mimetype": "text/x-python",
   "name": "python",
   "nbconvert_exporter": "python",
   "pygments_lexer": "ipython2",
   "version": "2.7.11"
  }
 },
 "nbformat": 4,
 "nbformat_minor": 0
}
