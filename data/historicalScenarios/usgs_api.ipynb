{
 "cells": [
  {
   "cell_type": "markdown",
   "metadata": {
    "slideshow": {
     "slide_type": "slide"
    }
   },
   "source": [
    "# USGS API\n",
    "My own \"tutorial\".\n",
    "\n",
    "The idea is to send url queries to the usgs db"
   ]
  },
  {
   "cell_type": "code",
   "execution_count": 1,
   "metadata": {
    "collapsed": true,
    "slideshow": {
     "slide_type": "fragment"
    }
   },
   "outputs": [],
   "source": [
    "from lxml import html\n",
    "import requests"
   ]
  },
  {
   "cell_type": "markdown",
   "metadata": {
    "slideshow": {
     "slide_type": "fragment"
    }
   },
   "source": [
    "First I study the GeoJson format:\n",
    "\n",
    "http://earthquake.usgs.gov/earthquakes/feed/v1.0/geojson.php"
   ]
  },
  {
   "cell_type": "code",
   "execution_count": 2,
   "metadata": {
    "collapsed": false,
    "slideshow": {
     "slide_type": "fragment"
    }
   },
   "outputs": [],
   "source": [
    "# s = \"http://earthquake.usgs.gov/earthquakes/feed/v1.0/summary/significant_week.geojson\"\n",
    "s = \"http://earthquake.usgs.gov/earthquakes/feed/v1.0/summary/significant_month.geojson\"\n",
    "# s = \"http://earthquake.usgs.gov/fdsnws/event/1/query?format=geojson&starttime=2014-01-01&endtime=2014-01-02\"\n",
    "r = requests.get(s)"
   ]
  },
  {
   "cell_type": "markdown",
   "metadata": {
    "slideshow": {
     "slide_type": "fragment"
    }
   },
   "source": [
    "Convert the json string to a dictionary"
   ]
  },
  {
   "cell_type": "code",
   "execution_count": 3,
   "metadata": {
    "collapsed": false,
    "slideshow": {
     "slide_type": "fragment"
    }
   },
   "outputs": [
    {
     "data": {
      "text/plain": [
       "[u'type', u'features', u'bbox', u'metadata']"
      ]
     },
     "execution_count": 3,
     "metadata": {},
     "output_type": "execute_result"
    }
   ],
   "source": [
    "import json\n",
    "d = json.loads(r.content)\n",
    "d.keys()"
   ]
  },
  {
   "cell_type": "markdown",
   "metadata": {
    "slideshow": {
     "slide_type": "subslide"
    }
   },
   "source": [
    "As is shown in the website address mentioned above, each file is of this form:"
   ]
  },
  {
   "cell_type": "markdown",
   "metadata": {
    "slideshow": {
     "slide_type": "fragment"
    }
   },
   "source": [
    "```json\n",
    "{\n",
    "  type: \"FeatureCollection\",\n",
    "  metadata: { \n",
    "  ...\n",
    "  },\n",
    "  bbox: [\n",
    "    ...\n",
    "  ],\n",
    "  features: [\n",
    "    {\n",
    "      type: \"Feature\",\n",
    "      properties: {\n",
    "        mag: Decimal,\n",
    "        ...\n",
    "        tsunami: Integer,\n",
    "        ...\n",
    "        magType: String,\n",
    "        type: String\n",
    "      },\n",
    "      geometry: {\n",
    "        type: \"Point\",\n",
    "        coordinates: [\n",
    "          longitude,\n",
    "          latitude,\n",
    "          depth\n",
    "        ]\n",
    "      },\n",
    "      id: String\n",
    "    },\n",
    "    …\n",
    "  ]\n",
    "}\n",
    "```"
   ]
  },
  {
   "cell_type": "code",
   "execution_count": 4,
   "metadata": {
    "collapsed": false,
    "scrolled": false,
    "slideshow": {
     "slide_type": "subslide"
    }
   },
   "outputs": [
    {
     "name": "stdout",
     "output_type": "stream",
     "text": [
      "place = 109km E of Ile Hunter, New Caledonia \n",
      "\tcoords = [173.1114, -22.4953, 9.95]\n",
      "\tmag = 7.200mwwm tsunami = 1 Type = earthquake\n",
      "place = 20km NNE of Upper Lake, California \n",
      "\tcoords = [-122.8018333, 39.3293333, 14.45]\n",
      "\tmag = 5.090mwm tsunami = 1 Type = earthquake\n",
      "place = 70km ENE of Iwo Jima, Japan \n",
      "\tcoords = [142.0074, 24.9477, 510]\n",
      "\tmag = 6.300mwwm tsunami = 0 Type = earthquake\n",
      "place = 31km ESE of Janesville, California \n",
      "\tcoords = [-120.2131667, 40.1538333, 6.87]\n",
      "\tmag = 4.480mwm tsunami = 0 Type = earthquake\n",
      "place = 28km SSW of Agrihan, Northern Mariana Islands \n",
      "\tcoords = [145.541, 18.5439, 207.62]\n",
      "\tmag = 7.700mwwm tsunami = 1 Type = earthquake\n",
      "place = 128km SE of Lorengau, Papua New Guinea \n",
      "\tcoords = [147.9672, -2.9523, 7.31]\n",
      "\tmag = 6.400mwwm tsunami = 1 Type = earthquake\n",
      "place = 19km SE of Bayside, California \n",
      "\tcoords = [-123.8918333, 40.7243333, 26.24]\n",
      "\tmag = 4.730mwm tsunami = 1 Type = earthquake\n",
      "place = 13km SSE of Ridgemark, California \n",
      "\tcoords = [-121.3296667, 36.6925, 5.87]\n",
      "\tmag = 4.220mwm tsunami = 1 Type = earthquake\n",
      "place = 20km W of Perry, Oklahoma \n",
      "\tcoords = [-97.5138, 36.2841, 4.787]\n",
      "\tmag = 4.200mwrm tsunami = 0 Type = earthquake\n"
     ]
    }
   ],
   "source": [
    "for f in d['features']:\n",
    "    coords = f['geometry']['coordinates']\n",
    "    place = f['properties']['place']\n",
    "    mag = f['properties']['mag']\n",
    "    magType = f['properties']['magType'] \n",
    "    tsunamiFlag = f['properties']['tsunami']\n",
    "    Type = f['properties']['type']\n",
    "    print 'place = %s \\n\\tcoords ='%place,coords\n",
    "    print '\\tmag = %.3f%sm tsunami = %i Type = %s'%(mag,magType,tsunamiFlag, Type)"
   ]
  },
  {
   "cell_type": "markdown",
   "metadata": {
    "slideshow": {
     "slide_type": "slide"
    }
   },
   "source": [
    "# Sending Queries to the USGS API"
   ]
  },
  {
   "cell_type": "markdown",
   "metadata": {},
   "source": [
    "The API can give many kind of answers (methods), as is well explained here\n",
    "\n",
    "http://earthquake.usgs.gov/fdsnws/event/1/"
   ]
  },
  {
   "cell_type": "markdown",
   "metadata": {
    "slideshow": {
     "slide_type": "subslide"
    }
   },
   "source": [
    "The first kind of interest is the \"count\" method which indicates how many results are associated to the querystring\n",
    "\n",
    "http://earthquake.usgs.gov/fdsnws/event/1/count?format=geojson&starttime=2014-01-01&endtime=2014-01-02"
   ]
  },
  {
   "cell_type": "markdown",
   "metadata": {},
   "source": [
    "The other is the \"query\" method, which actually performs the query\n",
    "\n",
    "http://earthquake.usgs.gov/fdsnws/event/1/query?format=geojson&starttime=2014-01-01&endtime=2014-01-02"
   ]
  },
  {
   "cell_type": "markdown",
   "metadata": {
    "slideshow": {
     "slide_type": "subslide"
    }
   },
   "source": [
    "Two kind of queries that can be interesting are:\n",
    "1. Get all events bigger than a certain magnitude, considering the whole planet.\n",
    "2. Given a point location, return all events \"close\" to that point, or the closest one. Close means a predefined radius."
   ]
  },
  {
   "cell_type": "markdown",
   "metadata": {
    "slideshow": {
     "slide_type": "subslide"
    }
   },
   "source": [
    "For now, only the first kind of query.\n",
    "\n",
    "## Query all events with magnitude over 9.0"
   ]
  },
  {
   "cell_type": "code",
   "execution_count": null,
   "metadata": {
    "collapsed": true,
    "hide_input": true
   },
   "outputs": [],
   "source": []
  },
  {
   "cell_type": "code",
   "execution_count": 5,
   "metadata": {
    "collapsed": false
   },
   "outputs": [],
   "source": [
    "baseCountString = \"http://earthquake.usgs.gov/fdsnws/event/1/count?format=geojson\"\n",
    "baseQueryString = \"http://earthquake.usgs.gov/fdsnws/event/1/query?format=geojson\"\n",
    "startTime = \"&starttime=0000-01-01\"\n",
    "endTime = \"&endtime=2016-01-02\"\n",
    "minMagnitudeString = \"&minmagnitude=8.0\"\n",
    "qString = baseQueryString + startTime + endTime + minMagnitudeString\n",
    "cString = baseCountString + startTime + endTime + minMagnitudeString"
   ]
  },
  {
   "cell_type": "code",
   "execution_count": 6,
   "metadata": {
    "collapsed": false
   },
   "outputs": [
    {
     "data": {
      "text/plain": [
       "{u'count': 92, u'maxAllowed': 20000}"
      ]
     },
     "execution_count": 6,
     "metadata": {},
     "output_type": "execute_result"
    }
   ],
   "source": [
    "countMag9 = requests.get(cString)\n",
    "dCountMag9 = json.loads(countMag9.content)\n",
    "dCountMag9"
   ]
  },
  {
   "cell_type": "code",
   "execution_count": 7,
   "metadata": {
    "collapsed": false
   },
   "outputs": [],
   "source": [
    "queryMag9 = requests.get(qString)\n",
    "dQueryMag9 = json.loads(queryMag9.content)"
   ]
  },
  {
   "cell_type": "code",
   "execution_count": 8,
   "metadata": {
    "collapsed": false,
    "scrolled": true
   },
   "outputs": [
    {
     "name": "stdout",
     "output_type": "stream",
     "text": [
      "place = 48km W of Illapel, Chile \n",
      "\tcoords = [-71.6744, -31.5729, 22.44]\n",
      "\tmag = 8.300mwwm tsunami = 1 Type = earthquake\n",
      "place = 94km NW of Iquique, Chile \n",
      "\tcoords = [-70.7691, -19.6097, 25]\n",
      "\tmag = 8.200mwwm tsunami = 1 Type = earthquake\n",
      "place = Sea of Okhotsk \n",
      "\tcoords = [153.221, 54.892, 598.1]\n",
      "\tmag = 8.300mwwm tsunami = 1 Type = earthquake\n",
      "place = 76km W of Lata, Solomon Islands \n",
      "\tcoords = [165.114, -10.799, 24]\n",
      "\tmag = 8.000mwwm tsunami = 1 Type = earthquake\n",
      "place = off the west coast of northern Sumatra \n",
      "\tcoords = [92.463, 0.802, 25.1]\n",
      "\tmag = 8.200mwcm tsunami = 0 Type = earthquake\n",
      "place = off the west coast of northern Sumatra \n",
      "\tcoords = [93.063, 2.327, 20]\n",
      "\tmag = 8.600mwwm tsunami = 0 Type = earthquake\n",
      "place = near the east coast of Honshu, Japan \n",
      "\tcoords = [142.373, 38.297, 29]\n",
      "\tmag = 9.000mwwm tsunami = 0 Type = earthquake\n",
      "place = offshore Bio-Bio, Chile \n",
      "\tcoords = [-72.898, -36.122, 22.9]\n",
      "\tmag = 8.800mwcm tsunami = 0 Type = earthquake\n",
      "place = Samoa Islands region \n",
      "\tcoords = [-172.095, -15.489, 18]\n",
      "\tmag = 8.100mwcm tsunami = 0 Type = earthquake\n",
      "place = southern Sumatra, Indonesia \n",
      "\tcoords = [101.367, -4.438, 34]\n",
      "\tmag = 8.500mwcm tsunami = 0 Type = earthquake\n",
      "place = near the coast of central Peru \n",
      "\tcoords = [-76.603, -13.386, 39]\n",
      "\tmag = 8.000mwcm tsunami = 0 Type = earthquake\n",
      "place = Solomon Islands \n",
      "\tcoords = [157.043, -8.466, 24]\n",
      "\tmag = 8.100mwcm tsunami = 0 Type = earthquake\n",
      "place = east of the Kuril Islands \n",
      "\tcoords = [154.524, 46.243, 10]\n",
      "\tmag = 8.100mwcm tsunami = 0 Type = earthquake\n",
      "place = Kuril Islands \n",
      "\tcoords = [153.266, 46.592, 10]\n",
      "\tmag = 8.300mwcm tsunami = 0 Type = earthquake\n",
      "place = Tonga \n",
      "\tcoords = [-174.123, -20.187, 55]\n",
      "\tmag = 8.000mwcm tsunami = 0 Type = earthquake\n",
      "place = northern Sumatra, Indonesia \n",
      "\tcoords = [97.108, 2.085, 30]\n",
      "\tmag = 8.600mwcm tsunami = 0 Type = earthquake\n",
      "place = off the west coast of northern Sumatra \n",
      "\tcoords = [95.982, 3.295, 30]\n",
      "\tmag = 9.100mwm tsunami = 0 Type = earthquake\n",
      "place = north of Macquarie Island \n",
      "\tcoords = [161.345, -49.312, 10]\n",
      "\tmag = 8.100mwcm tsunami = 0 Type = earthquake\n",
      "place = Hokkaido, Japan region \n",
      "\tcoords = [143.91, 41.815, 27]\n",
      "\tmag = 8.300mwcm tsunami = 0 Type = earthquake\n",
      "place = near the coast of southern Peru \n",
      "\tcoords = [-73.641, -16.265, 33]\n",
      "\tmag = 8.400mwcm tsunami = 0 Type = earthquake\n",
      "place = New Ireland region, Papua New Guinea \n",
      "\tcoords = [152.169, -3.98, 33]\n",
      "\tmag = 8.000mwcm tsunami = 0 Type = earthquake\n",
      "place = Balleny Islands region \n",
      "\tcoords = [149.527, -62.877, 10]\n",
      "\tmag = 8.100mwcm tsunami = 0 Type = earthquake\n",
      "place = Biak region, Indonesia \n",
      "\tcoords = [136.952, -0.891, 33]\n",
      "\tmag = 8.200mwm tsunami = 0 Type = earthquake\n",
      "place = Colima, Mexico \n",
      "\tcoords = [-104.205, 19.055, 33]\n",
      "\tmag = 8.000mwm tsunami = 0 Type = earthquake\n",
      "place = Antofagasta, Chile \n",
      "\tcoords = [-70.294, -23.34, 45.6]\n",
      "\tmag = 8.000mwm tsunami = 0 Type = earthquake\n",
      "place = Kuril Islands \n",
      "\tcoords = [147.321, 43.773, 14]\n",
      "\tmag = 8.300mwm tsunami = 0 Type = earthquake\n",
      "place = La Paz, Bolivia \n",
      "\tcoords = [-67.553, -13.841, 631.3]\n",
      "\tmag = 8.200mwm tsunami = 0 Type = earthquake\n",
      "place = Macquarie Island region \n",
      "\tcoords = [160.568, -52.341, 10]\n",
      "\tmag = 8.200mwm tsunami = 0 Type = earthquake\n",
      "place = Andreanof Islands, Aleutian Islands, Alaska \n",
      "\tcoords = [-174.776, 51.52, 33]\n",
      "\tmag = 8.000mwm tsunami = 0 Type = earthquake\n",
      "place = Michoacan, Mexico \n",
      "\tcoords = [-102.533, 18.19, 27.9]\n",
      "\tmag = 8.000mwm tsunami = 0 Type = earthquake\n",
      "place = offshore Valparaiso, Chile \n",
      "\tcoords = [-71.871, -33.135, 33]\n",
      "\tmag = 8.000mwm tsunami = 0 Type = earthquake\n",
      "place = Kermadec Islands region \n",
      "\tcoords = [-177.657, -28.427, 33]\n",
      "\tmag = 8.000msm tsunami = 0 Type = earthquake\n",
      "place = Mindanao, Philippines \n",
      "\tcoords = [126.64, 6.405, 60]\n",
      "\tmag = 8.000mwm tsunami = 0 Type = earthquake\n",
      "place = New Ireland region, Papua New Guinea \n",
      "\tcoords = [153.172, -4.817, 40]\n",
      "\tmag = 8.100mwm tsunami = 0 Type = earthquake\n",
      "place = New Ireland region, Papua New Guinea \n",
      "\tcoords = [153.85, -5.524, 40]\n",
      "\tmag = 8.000mwm tsunami = 0 Type = earthquake\n",
      "place = Colombia \n",
      "\tcoords = [-72.532, -1.597, 644.8]\n",
      "\tmag = 8.000mwm tsunami = 0 Type = earthquake\n",
      "place = off the east coast of Honshu, Japan \n",
      "\tcoords = [143.435, 40.86, 29.9]\n",
      "\tmag = 8.200mwm tsunami = 0 Type = earthquake\n",
      "place = near the coast of central Peru \n",
      "\tcoords = [-78.228, -10.665, 40]\n",
      "\tmag = 8.100mwm tsunami = 0 Type = earthquake\n",
      "place = Rat Islands, Aleutian Islands, Alaska \n",
      "\tcoords = [178.715, 51.251, 30.3]\n",
      "\tmag = 8.700mwm tsunami = 0 Type = earthquake\n",
      "place = Kepulauan Sula, Indonesia \n",
      "\tcoords = [125.952, -2.608, 20]\n",
      "\tmag = 8.200mwm tsunami = 0 Type = earthquake\n",
      "place = Southern Alaska \n",
      "\tcoords = [-147.339, 60.908, 25]\n",
      "\tmag = 9.300mwm tsunami = 0 Type = earthquake\n",
      "place = Banda Sea \n",
      "\tcoords = [129.684, -6.843, 65]\n",
      "\tmag = 8.100mwm tsunami = 0 Type = earthquake\n",
      "place = Kuril Islands \n",
      "\tcoords = [149.483, 44.872, 35]\n",
      "\tmag = 8.500mwm tsunami = 0 Type = earthquake\n",
      "place = Bio-Bio, Chile \n",
      "\tcoords = [-73.407, -38.143, 25]\n",
      "\tmag = 9.600mwm tsunami = 0 Type = earthquake\n",
      "place = Araucania, Chile \n",
      "\tcoords = [-73.039, -38.061, 25]\n",
      "\tmag = 8.600mwm tsunami = 0 Type = earthquake\n",
      "place = Bio-Bio, Chile \n",
      "\tcoords = [-73.353, -37.824, 25]\n",
      "\tmag = 8.100mwm tsunami = 0 Type = earthquake\n",
      "place = off the east coast of Honshu, Japan \n",
      "\tcoords = [143.228, 39.869, 15]\n",
      "\tmag = 8.000mwm tsunami = 0 Type = earthquake\n",
      "place = Kuril Islands \n",
      "\tcoords = [148.485, 44.479, 35]\n",
      "\tmag = 8.400mwm tsunami = 0 Type = earthquake\n",
      "place = central Mongolia \n",
      "\tcoords = [99.368, 45.189, 30]\n",
      "\tmag = 8.100mwm tsunami = 0 Type = earthquake\n",
      "place = Andreanof Islands, Aleutian Islands, Alaska \n",
      "\tcoords = [-175.626, 51.499, 25]\n",
      "\tmag = 8.600mwm tsunami = 0 Type = earthquake\n",
      "place = off the east coast of the Kamchatka Peninsula, Russia \n",
      "\tcoords = [159.779, 52.623, 21.6]\n",
      "\tmag = 8.900mwm tsunami = 0 Type = earthquake\n",
      "place = Hokkaido, Japan region \n",
      "\tcoords = [143.899, 42.084, 45]\n",
      "\tmag = 8.100mwm tsunami = 0 Type = earthquake\n",
      "place = Antofagasta, Chile \n",
      "\tcoords = [-67.912, -23.977, 113.9]\n",
      "\tmag = 8.200mwm tsunami = 0 Type = earthquake\n",
      "place = eastern Xizang-India border region \n",
      "\tcoords = [96.445, 28.363, 15]\n",
      "\tmag = 8.600mwm tsunami = 0 Type = earthquake\n",
      "place = Haida Gwaii, Canada \n",
      "\tcoords = [-133.015, 53.673, 10]\n",
      "\tmag = 8.200mwm tsunami = 0 Type = earthquake\n",
      "place = near the south coast of western Honshu, Japan \n",
      "\tcoords = [135.895, 33.116, 15]\n",
      "\tmag = 8.300mwm tsunami = 0 Type = earthquake\n",
      "place = Myanmar \n",
      "\tcoords = [95.666, 24.054, 15]\n",
      "\tmag = 8.000mwm tsunami = 0 Type = earthquake\n",
      "place = south of Alaska \n",
      "\tcoords = [-162.832, 53.492, 15]\n",
      "\tmag = 8.600mwm tsunami = 0 Type = earthquake\n",
      "place = off the coast of Pakistan \n",
      "\tcoords = [63.601, 24.927, 15]\n",
      "\tmag = 8.100mwm tsunami = 0 Type = earthquake\n",
      "place = near the south coast of western Honshu, Japan \n",
      "\tcoords = [136.204, 33.682, 15]\n",
      "\tmag = 8.100mwm tsunami = 0 Type = earthquake\n",
      "place = Coquimbo, Chile \n",
      "\tcoords = [-71.475, -31.432, 35]\n",
      "\tmag = 8.100mwm tsunami = 0 Type = earthquake\n",
      "place = south of Africa \n",
      "\tcoords = [30.336, -49.92, 10]\n",
      "\tmag = 8.000mwm tsunami = 0 Type = earthquake\n",
      "place = central Peru \n",
      "\tcoords = [-74.708, -14.819, 30]\n",
      "\tmag = 8.100mwm tsunami = 0 Type = earthquake\n",
      "place = Azores-Cape St. Vincent Ridge \n",
      "\tcoords = [-18.953, 37.446, 10]\n",
      "\tmag = 8.000mwm tsunami = 0 Type = earthquake\n",
      "place = near the coast of central Peru \n",
      "\tcoords = [-77.487, -11.094, 45]\n",
      "\tmag = 8.200mwm tsunami = 0 Type = earthquake\n",
      "place = Sulawesi, Indonesia \n",
      "\tcoords = [122.51, -0.073, 35]\n",
      "\tmag = 8.100mwm tsunami = 0 Type = earthquake\n",
      "place = Alaska Peninsula \n",
      "\tcoords = [-158.181, 55.178, 35]\n",
      "\tmag = 8.300mwm tsunami = 0 Type = earthquake\n",
      "place = Banda Sea \n",
      "\tcoords = [131.614, -5.045, 25]\n",
      "\tmag = 8.500mwm tsunami = 0 Type = earthquake\n",
      "place = Nepal-India border region \n",
      "\tcoords = [86.589, 26.885, 15]\n",
      "\tmag = 8.000mwm tsunami = 0 Type = earthquake\n",
      "place = off the east coast of Honshu, Japan \n",
      "\tcoords = [144.59, 39.209, 15]\n",
      "\tmag = 8.500mwm tsunami = 0 Type = earthquake\n",
      "place = Jalisco, Mexico \n",
      "\tcoords = [-103.784, 19.786, 15]\n",
      "\tmag = 8.100mwm tsunami = 0 Type = earthquake\n",
      "place = South Sandwich Islands region \n",
      "\tcoords = [-29.434, -55.342, 15]\n",
      "\tmag = 8.100mwm tsunami = 0 Type = earthquake\n",
      "place = Mindanao, Philippines \n",
      "\tcoords = [126.038, 6.722, 15]\n",
      "\tmag = 8.000mwm tsunami = 0 Type = earthquake\n",
      "place = near the south coast of Honshu, Japan \n",
      "\tcoords = [139.298, 35.413, 15]\n",
      "\tmag = 8.100mwm tsunami = 0 Type = earthquake\n",
      "place = near the east coast of the Kamchatka Peninsula, Russia \n",
      "\tcoords = [160.472, 54.486, 15]\n",
      "\tmag = 8.400mwm tsunami = 0 Type = earthquake\n",
      "place = Atacama, Chile \n",
      "\tcoords = [-69.852, -28.293, 70]\n",
      "\tmag = 8.300mwm tsunami = 0 Type = earthquake\n",
      "place = Gansu-Ningxia border region, China \n",
      "\tcoords = [105.606, 36.888, 15]\n",
      "\tmag = 8.300mwm tsunami = 0 Type = earthquake\n",
      "place = Loyalty Islands, New Caledonia \n",
      "\tcoords = [168.523, -20.088, 25]\n",
      "\tmag = 8.100mwm tsunami = 0 Type = earthquake\n",
      "place = Taiwan \n",
      "\tcoords = [121.986, 23.684, 20]\n",
      "\tmag = 8.200mwm tsunami = 0 Type = earthquake\n",
      "place = Tonga region \n",
      "\tcoords = [-172.515, -18.352, 25]\n",
      "\tmag = 8.100mwm tsunami = 0 Type = earthquake\n",
      "place = Kuril Islands \n",
      "\tcoords = [150.653, 46.737, 15]\n",
      "\tmag = 8.100mwm tsunami = 0 Type = earthquake\n",
      "place = Mindanao, Philippines \n",
      "\tcoords = [124.377, 5.967, 20]\n",
      "\tmag = 8.300mwm tsunami = 0 Type = earthquake\n",
      "place = Samoa Islands region \n",
      "\tcoords = [-173.562, -14.739, 15]\n",
      "\tmag = 8.000mwm tsunami = 0 Type = earthquake\n",
      "place = Kermadec Islands region \n",
      "\tcoords = [-176.461, -31.08, 15]\n",
      "\tmag = 8.200mwm tsunami = 0 Type = earthquake\n",
      "place = Biak region, Indonesia \n",
      "\tcoords = [136.943, -1.829, 15]\n",
      "\tmag = 8.100mwm tsunami = 0 Type = earthquake\n",
      "place = northeast of Taiwan \n",
      "\tcoords = [123.973, 25.911, 235]\n",
      "\tmag = 8.100mwm tsunami = 0 Type = earthquake\n",
      "place = eastern New Guinea region, Papua New Guinea \n",
      "\tcoords = [147.281, -6.249, 35]\n",
      "\tmag = 8.000mwm tsunami = 0 Type = earthquake\n",
      "place = Valparaiso, Chile \n",
      "\tcoords = [-71.4, -32.4, 35]\n",
      "\tmag = 8.200mwm tsunami = 0 Type = earthquake\n",
      "place = Rat Islands, Aleutian Islands, Alaska \n",
      "\tcoords = [178.18, 51.853, 110]\n",
      "\tmag = 8.300mwm tsunami = 0 Type = earthquake\n",
      "place = near the coast of Ecuador \n",
      "\tcoords = [-79.369, 0.955, 20]\n",
      "\tmag = 8.300mwm tsunami = 0 Type = earthquake\n",
      "place = western Mongolia \n",
      "\tcoords = [96.61, 49.369, 15]\n",
      "\tmag = 8.300mwm tsunami = 0 Type = earthquake\n",
      "place = central Mongolia \n",
      "\tcoords = [98.483, 49.709, 15]\n",
      "\tmag = 8.300mwm tsunami = 0 Type = earthquake\n"
     ]
    }
   ],
   "source": [
    "for f in dQueryMag9['features']:\n",
    "    coords = f['geometry']['coordinates']\n",
    "    place = f['properties']['place']\n",
    "    mag = f['properties']['mag']\n",
    "    magType = f['properties']['magType'] \n",
    "    tsunamiFlag = f['properties']['tsunami']\n",
    "    Type = f['properties']['type']\n",
    "    print 'place = %s \\n\\tcoords ='%place,coords\n",
    "    print '\\tmag = %.3f%sm tsunami = %i Type = %s'%(mag,magType,tsunamiFlag, Type)"
   ]
  }
 ],
 "metadata": {
  "kernelspec": {
   "display_name": "Python 2",
   "language": "python",
   "name": "python2"
  },
  "language_info": {
   "codemirror_mode": {
    "name": "ipython",
    "version": 2
   },
   "file_extension": ".py",
   "mimetype": "text/x-python",
   "name": "python",
   "nbconvert_exporter": "python",
   "pygments_lexer": "ipython2",
   "version": "2.7.11"
  }
 },
 "nbformat": 4,
 "nbformat_minor": 0
}
